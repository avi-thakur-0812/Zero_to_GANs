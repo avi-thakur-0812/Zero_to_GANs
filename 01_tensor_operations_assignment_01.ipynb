{
  "cells": [
    {
      "cell_type": "markdown",
      "metadata": {
        "id": "7KjhqGz6RBOe"
      },
      "source": [
        "# 5 PyTorch functions for dummies (like me)\n",
        "\n",
        "\n",
        "PyTorch is a library specifically designed for numerical computations and building neural networks. While it is widely used, and most of its useful functions are regulary taught and known by beginners, here are some interesting functions I found, reading the documentation:\n",
        "\n",
        "- TORCH.TENSOR.WHERE\n",
        "- TORCH.UNBIND\n",
        "- TORCH.UNIQUE\n",
        "- TORCH.UNSQUEEZE\n",
        "- TORCH.TENSOR.INDEX_ADD_\n",
        "\n"
      ]
    },
    {
      "cell_type": "code",
      "execution_count": null,
      "metadata": {
        "id": "Vw7eVB-GRBOi"
      },
      "outputs": [],
      "source": [
        "import torch"
      ]
    },
    {
      "cell_type": "markdown",
      "metadata": {
        "id": "8F8QgnGkRBOj"
      },
      "source": [
        "## TORCH.TENSOR.WHERE\n",
        "\n",
        "It is a PyTorch function that returns a new tensor with elements from two input tensors, depending on the values of a condition tensor. It can be used as torch.where().\n",
        "\n",
        "The operation works as: \n",
        "\n",
        "outx = {x, if condition is true,\n",
        "        y, otherwise}"
      ]
    },
    {
      "cell_type": "code",
      "execution_count": null,
      "metadata": {
        "colab": {
          "base_uri": "https://localhost:8080/"
        },
        "id": "M62mRmLWRBOj",
        "outputId": "4d3bbaab-fe7e-40fc-a72d-3b3e24efc479"
      },
      "outputs": [
        {
          "output_type": "stream",
          "name": "stdout",
          "text": [
            "tensor([[ 1.5128, -0.4714],\n",
            "        [-0.7235, -0.5802],\n",
            "        [ 0.3103, -1.6022]])\n",
            "tensor([[1.5128, 1.0000],\n",
            "        [1.0000, 1.0000],\n",
            "        [0.3103, 1.0000]])\n"
          ]
        }
      ],
      "source": [
        "x = torch.randn(3, 2)\n",
        "y = torch.ones(3, 2)\n",
        "print(x)\n",
        "a = torch.where(x > 0, x, y)\n",
        "print(a)"
      ]
    },
    {
      "cell_type": "markdown",
      "metadata": {
        "id": "mWYgBIxcRBOm"
      },
      "source": [
        "Since the condition is x being positive, every index where x is negative is replaced by y. that is 1."
      ]
    },
    {
      "cell_type": "code",
      "execution_count": null,
      "metadata": {
        "id": "bjTprJV6RBOn",
        "colab": {
          "base_uri": "https://localhost:8080/"
        },
        "outputId": "e41aa2a6-ca2a-4774-877e-e2ea0a0f6d56"
      },
      "outputs": [
        {
          "output_type": "stream",
          "name": "stdout",
          "text": [
            "tensor([1, 7, 3, 9, 5])\n"
          ]
        }
      ],
      "source": [
        "\n",
        "a = torch.tensor([1, 2, 3, 4, 5])\n",
        "b = torch.tensor([6, 7, 8, 9, 10])\n",
        "condition = torch.tensor([True, False, True, False, True])\n",
        "\n",
        "result = torch.where(condition, a, b)\n",
        "print(result)\n"
      ]
    },
    {
      "cell_type": "markdown",
      "metadata": {
        "id": "ODtvwnuoRBOo"
      },
      "source": [
        "Conditions can also be passed as tensors themselves. Our target tensors have length 5, hence we pass a tensor with 5 conditions, which ends up giving the reuired output."
      ]
    },
    {
      "cell_type": "code",
      "source": [
        "a = torch.tensor([1, 2, 3, 4, 5])\n",
        "b = torch.tensor([6, 7, 8, 9])\n",
        "condition = torch.tensor([True, False, True, False, True])\n",
        "\n",
        "result = torch.where(condition, a, b)\n",
        "print(result)"
      ],
      "metadata": {
        "colab": {
          "base_uri": "https://localhost:8080/",
          "height": 217
        },
        "id": "fwEgeHSPcZnF",
        "outputId": "13e2da8e-bf46-4494-f727-95f3e690d110"
      },
      "execution_count": null,
      "outputs": [
        {
          "output_type": "error",
          "ename": "RuntimeError",
          "evalue": "ignored",
          "traceback": [
            "\u001b[0;31m---------------------------------------------------------------------------\u001b[0m",
            "\u001b[0;31mRuntimeError\u001b[0m                              Traceback (most recent call last)",
            "\u001b[0;32m<ipython-input-39-014651a8e18c>\u001b[0m in \u001b[0;36m<module>\u001b[0;34m\u001b[0m\n\u001b[1;32m      3\u001b[0m \u001b[0mcondition\u001b[0m \u001b[0;34m=\u001b[0m \u001b[0mtorch\u001b[0m\u001b[0;34m.\u001b[0m\u001b[0mtensor\u001b[0m\u001b[0;34m(\u001b[0m\u001b[0;34m[\u001b[0m\u001b[0;32mTrue\u001b[0m\u001b[0;34m,\u001b[0m \u001b[0;32mFalse\u001b[0m\u001b[0;34m,\u001b[0m \u001b[0;32mTrue\u001b[0m\u001b[0;34m,\u001b[0m \u001b[0;32mFalse\u001b[0m\u001b[0;34m,\u001b[0m \u001b[0;32mTrue\u001b[0m\u001b[0;34m]\u001b[0m\u001b[0;34m)\u001b[0m\u001b[0;34m\u001b[0m\u001b[0;34m\u001b[0m\u001b[0m\n\u001b[1;32m      4\u001b[0m \u001b[0;34m\u001b[0m\u001b[0m\n\u001b[0;32m----> 5\u001b[0;31m \u001b[0mresult\u001b[0m \u001b[0;34m=\u001b[0m \u001b[0mtorch\u001b[0m\u001b[0;34m.\u001b[0m\u001b[0mwhere\u001b[0m\u001b[0;34m(\u001b[0m\u001b[0mcondition\u001b[0m\u001b[0;34m,\u001b[0m \u001b[0ma\u001b[0m\u001b[0;34m,\u001b[0m \u001b[0mb\u001b[0m\u001b[0;34m)\u001b[0m\u001b[0;34m\u001b[0m\u001b[0;34m\u001b[0m\u001b[0m\n\u001b[0m\u001b[1;32m      6\u001b[0m \u001b[0mprint\u001b[0m\u001b[0;34m(\u001b[0m\u001b[0mresult\u001b[0m\u001b[0;34m)\u001b[0m\u001b[0;34m\u001b[0m\u001b[0;34m\u001b[0m\u001b[0m\n",
            "\u001b[0;31mRuntimeError\u001b[0m: The size of tensor a (5) must match the size of tensor b (4) at non-singleton dimension 0"
          ]
        }
      ]
    },
    {
      "cell_type": "markdown",
      "source": [
        "As you can observe, the size of the second tensor isn't the same as the first tensor, hence it gives us an error."
      ],
      "metadata": {
        "id": "lXi164uucgxR"
      }
    },
    {
      "cell_type": "markdown",
      "metadata": {
        "id": "twkBLhyzRBOs"
      },
      "source": [
        "## TORCH.UNBIND\n",
        "\n",
        "This function is used to remove a tensor dimension.\n",
        "It takes in a tensor as input, alongside a dim which specifies a dimension to remove. "
      ]
    },
    {
      "cell_type": "code",
      "execution_count": null,
      "metadata": {
        "id": "HUpOXAwKRBOs",
        "colab": {
          "base_uri": "https://localhost:8080/"
        },
        "outputId": "0c24e182-1a45-4291-c0b8-e730f9b63562"
      },
      "outputs": [
        {
          "output_type": "execute_result",
          "data": {
            "text/plain": [
              "(tensor([1, 2, 3]), tensor([4, 5, 6]), tensor([7, 8, 9]))"
            ]
          },
          "metadata": {},
          "execution_count": 6
        }
      ],
      "source": [
        "torch.unbind(torch.tensor([[1, 2, 3], [4, 5, 6], [7, 8, 9]]))"
      ]
    },
    {
      "cell_type": "markdown",
      "metadata": {
        "id": "cy2sAplARBOs"
      },
      "source": [
        "As the dimension isn't specified, the default value 0 is taken and the tensors are split along rows,"
      ]
    },
    {
      "cell_type": "code",
      "execution_count": null,
      "metadata": {
        "id": "HbVzgmz2RBOs",
        "colab": {
          "base_uri": "https://localhost:8080/"
        },
        "outputId": "5e7cb957-3a65-4085-f92c-e73c8e9fd997"
      },
      "outputs": [
        {
          "output_type": "execute_result",
          "data": {
            "text/plain": [
              "(tensor([1, 4, 7]), tensor([2, 5, 8]), tensor([3, 6, 9]))"
            ]
          },
          "metadata": {},
          "execution_count": 8
        }
      ],
      "source": [
        "x = torch.tensor([[1, 2, 3], [4, 5, 6], [7, 8, 9]])\n",
        "torch.unbind(x, dim = 1)"
      ]
    },
    {
      "cell_type": "code",
      "execution_count": null,
      "metadata": {
        "id": "crquO9oURBOt",
        "colab": {
          "base_uri": "https://localhost:8080/",
          "height": 165
        },
        "outputId": "73d2f3dc-477d-4b6b-db21-18d04a9aa65d"
      },
      "outputs": [
        {
          "output_type": "error",
          "ename": "IndexError",
          "evalue": "ignored",
          "traceback": [
            "\u001b[0;31m---------------------------------------------------------------------------\u001b[0m",
            "\u001b[0;31mIndexError\u001b[0m                                Traceback (most recent call last)",
            "\u001b[0;32m<ipython-input-40-423a46a2b706>\u001b[0m in \u001b[0;36m<module>\u001b[0;34m\u001b[0m\n\u001b[0;32m----> 1\u001b[0;31m \u001b[0mtorch\u001b[0m\u001b[0;34m.\u001b[0m\u001b[0munbind\u001b[0m\u001b[0;34m(\u001b[0m\u001b[0mx\u001b[0m\u001b[0;34m,\u001b[0m \u001b[0mdim\u001b[0m \u001b[0;34m=\u001b[0m \u001b[0;36m2\u001b[0m\u001b[0;34m)\u001b[0m\u001b[0;34m\u001b[0m\u001b[0;34m\u001b[0m\u001b[0m\n\u001b[0m",
            "\u001b[0;31mIndexError\u001b[0m: Dimension out of range (expected to be in range of [-2, 1], but got 2)"
          ]
        }
      ],
      "source": [
        "torch.unbind(x, dim = 2)"
      ]
    },
    {
      "cell_type": "markdown",
      "metadata": {
        "id": "c9cznv2qRBOt"
      },
      "source": [
        "The dimension is set to 2, which is outside the range of dimensions, hence we get an error."
      ]
    },
    {
      "cell_type": "markdown",
      "metadata": {
        "id": "SZ8SBeK6RBOt"
      },
      "source": [
        "This function should be used when there is a need to split data along rows or columns."
      ]
    },
    {
      "cell_type": "markdown",
      "metadata": {
        "id": "NZdvRkctRBOu"
      },
      "source": [
        "## TORCH.UNIQUE\n",
        "As the name suggests, it returns the unique elements of the input tensor.It takes the parameters input, sorted, return_inverse, return_counts, dim. It is particularly useful as it helps to sort, find the indices and counts of the unique elements."
      ]
    },
    {
      "cell_type": "code",
      "execution_count": null,
      "metadata": {
        "id": "nX3B7VlkRBOu",
        "colab": {
          "base_uri": "https://localhost:8080/"
        },
        "outputId": "c9dff7fa-d725-4147-cf20-4c40e4fcc110"
      },
      "outputs": [
        {
          "output_type": "execute_result",
          "data": {
            "text/plain": [
              "tensor([1, 2, 3])"
            ]
          },
          "metadata": {},
          "execution_count": 28
        }
      ],
      "source": [
        "output = torch.unique(torch.tensor([1, 3, 2, 3], dtype=torch.long))\n",
        "output\n",
        "\n"
      ]
    },
    {
      "cell_type": "markdown",
      "metadata": {
        "id": "rmasEu4HRBOu"
      },
      "source": [
        "This is s simple illustration of the workings of unique without specifying and parameters."
      ]
    },
    {
      "cell_type": "code",
      "execution_count": null,
      "metadata": {
        "id": "XFHDks0LRBOv",
        "colab": {
          "base_uri": "https://localhost:8080/"
        },
        "outputId": "9f5c21c9-5790-483f-9222-699c9a2a0abc"
      },
      "outputs": [
        {
          "output_type": "stream",
          "name": "stdout",
          "text": [
            "tensor([1, 2, 3])\n",
            "tensor([0, 2, 1, 2])\n"
          ]
        }
      ],
      "source": [
        "output, inverse_indices = torch.unique(torch.tensor([1, 3, 2, 3], dtype=torch.long), sorted=True, return_inverse=True)\n",
        "print(output)\n",
        "print(inverse_indices)\n"
      ]
    },
    {
      "cell_type": "markdown",
      "metadata": {
        "id": "7z6p7gzeRBOv"
      },
      "source": [
        "This shows the workings of the  various useful parameters that can be used with unique."
      ]
    },
    {
      "cell_type": "code",
      "execution_count": null,
      "metadata": {
        "id": "pnEZNMM3RBOv",
        "colab": {
          "base_uri": "https://localhost:8080/"
        },
        "outputId": "c4634217-717e-4c11-90db-1ec9d7a67990"
      },
      "outputs": [
        {
          "output_type": "stream",
          "name": "stdout",
          "text": [
            "tensor([1, 2, 3, 1, 2])\n"
          ]
        }
      ],
      "source": [
        "x = torch.tensor([1, 1, 2, 2, 3, 1, 1, 2])\n",
        "output = torch.unique_consecutive(x)\n",
        "print(output)"
      ]
    },
    {
      "cell_type": "markdown",
      "metadata": {
        "id": "_LdAK54tRBOv"
      },
      "source": [
        "torch.unique_consecutive is a slightly modified version of torch.unique that is worth mentioning as it has a lot of similarities with torch.unique.\n",
        "\n",
        "It eliminates all but the first element from every consecutive group of equivalent elements."
      ]
    },
    {
      "cell_type": "code",
      "source": [
        "x = torch.tensor([1, 2, 3, 1, 2, 3])\n",
        "y = torch.unique(x, reverse_sorted=True, return_counts=True)\n",
        "print(y)"
      ],
      "metadata": {
        "colab": {
          "base_uri": "https://localhost:8080/",
          "height": 345
        },
        "id": "h7Ek2xi2c14q",
        "outputId": "63068278-6365-4bb6-ac10-b3cbc24a6443"
      },
      "execution_count": null,
      "outputs": [
        {
          "output_type": "error",
          "ename": "TypeError",
          "evalue": "ignored",
          "traceback": [
            "\u001b[0;31m---------------------------------------------------------------------------\u001b[0m",
            "\u001b[0;31mTypeError\u001b[0m                                 Traceback (most recent call last)",
            "\u001b[0;32m<ipython-input-45-7d70dbff57a1>\u001b[0m in \u001b[0;36m<module>\u001b[0;34m\u001b[0m\n\u001b[1;32m      1\u001b[0m \u001b[0mx\u001b[0m \u001b[0;34m=\u001b[0m \u001b[0mtorch\u001b[0m\u001b[0;34m.\u001b[0m\u001b[0mtensor\u001b[0m\u001b[0;34m(\u001b[0m\u001b[0;34m[\u001b[0m\u001b[0;36m1\u001b[0m\u001b[0;34m,\u001b[0m \u001b[0;36m2\u001b[0m\u001b[0;34m,\u001b[0m \u001b[0;36m3\u001b[0m\u001b[0;34m,\u001b[0m \u001b[0;36m1\u001b[0m\u001b[0;34m,\u001b[0m \u001b[0;36m2\u001b[0m\u001b[0;34m,\u001b[0m \u001b[0;36m3\u001b[0m\u001b[0;34m]\u001b[0m\u001b[0;34m)\u001b[0m\u001b[0;34m\u001b[0m\u001b[0;34m\u001b[0m\u001b[0m\n\u001b[0;32m----> 2\u001b[0;31m \u001b[0my\u001b[0m \u001b[0;34m=\u001b[0m \u001b[0mtorch\u001b[0m\u001b[0;34m.\u001b[0m\u001b[0munique\u001b[0m\u001b[0;34m(\u001b[0m\u001b[0mx\u001b[0m\u001b[0;34m,\u001b[0m \u001b[0mreverse_sorted\u001b[0m\u001b[0;34m=\u001b[0m\u001b[0;32mTrue\u001b[0m\u001b[0;34m,\u001b[0m \u001b[0mreturn_counts\u001b[0m\u001b[0;34m=\u001b[0m\u001b[0;32mTrue\u001b[0m\u001b[0;34m)\u001b[0m\u001b[0;34m\u001b[0m\u001b[0;34m\u001b[0m\u001b[0m\n\u001b[0m\u001b[1;32m      3\u001b[0m \u001b[0mprint\u001b[0m\u001b[0;34m(\u001b[0m\u001b[0my\u001b[0m\u001b[0;34m)\u001b[0m\u001b[0;34m\u001b[0m\u001b[0;34m\u001b[0m\u001b[0m\n",
            "\u001b[0;32m/usr/local/lib/python3.8/dist-packages/torch/_jit_internal.py\u001b[0m in \u001b[0;36mfn\u001b[0;34m(*args, **kwargs)\u001b[0m\n\u001b[1;32m    483\u001b[0m             \u001b[0;32mreturn\u001b[0m \u001b[0mif_true\u001b[0m\u001b[0;34m(\u001b[0m\u001b[0;34m*\u001b[0m\u001b[0margs\u001b[0m\u001b[0;34m,\u001b[0m \u001b[0;34m**\u001b[0m\u001b[0mkwargs\u001b[0m\u001b[0;34m)\u001b[0m\u001b[0;34m\u001b[0m\u001b[0;34m\u001b[0m\u001b[0m\n\u001b[1;32m    484\u001b[0m         \u001b[0;32melse\u001b[0m\u001b[0;34m:\u001b[0m\u001b[0;34m\u001b[0m\u001b[0;34m\u001b[0m\u001b[0m\n\u001b[0;32m--> 485\u001b[0;31m             \u001b[0;32mreturn\u001b[0m \u001b[0mif_false\u001b[0m\u001b[0;34m(\u001b[0m\u001b[0;34m*\u001b[0m\u001b[0margs\u001b[0m\u001b[0;34m,\u001b[0m \u001b[0;34m**\u001b[0m\u001b[0mkwargs\u001b[0m\u001b[0;34m)\u001b[0m\u001b[0;34m\u001b[0m\u001b[0;34m\u001b[0m\u001b[0m\n\u001b[0m\u001b[1;32m    486\u001b[0m \u001b[0;34m\u001b[0m\u001b[0m\n\u001b[1;32m    487\u001b[0m     \u001b[0;32mif\u001b[0m \u001b[0mif_true\u001b[0m\u001b[0;34m.\u001b[0m\u001b[0m__doc__\u001b[0m \u001b[0;32mis\u001b[0m \u001b[0;32mNone\u001b[0m \u001b[0;32mand\u001b[0m \u001b[0mif_false\u001b[0m\u001b[0;34m.\u001b[0m\u001b[0m__doc__\u001b[0m \u001b[0;32mis\u001b[0m \u001b[0;32mnot\u001b[0m \u001b[0;32mNone\u001b[0m\u001b[0;34m:\u001b[0m\u001b[0;34m\u001b[0m\u001b[0;34m\u001b[0m\u001b[0m\n",
            "\u001b[0;32m/usr/local/lib/python3.8/dist-packages/torch/_jit_internal.py\u001b[0m in \u001b[0;36mfn\u001b[0;34m(*args, **kwargs)\u001b[0m\n\u001b[1;32m    481\u001b[0m \u001b[0;34m\u001b[0m\u001b[0m\n\u001b[1;32m    482\u001b[0m         \u001b[0;32mif\u001b[0m \u001b[0mdispatch_flag\u001b[0m\u001b[0;34m:\u001b[0m\u001b[0;34m\u001b[0m\u001b[0;34m\u001b[0m\u001b[0m\n\u001b[0;32m--> 483\u001b[0;31m             \u001b[0;32mreturn\u001b[0m \u001b[0mif_true\u001b[0m\u001b[0;34m(\u001b[0m\u001b[0;34m*\u001b[0m\u001b[0margs\u001b[0m\u001b[0;34m,\u001b[0m \u001b[0;34m**\u001b[0m\u001b[0mkwargs\u001b[0m\u001b[0;34m)\u001b[0m\u001b[0;34m\u001b[0m\u001b[0;34m\u001b[0m\u001b[0m\n\u001b[0m\u001b[1;32m    484\u001b[0m         \u001b[0;32melse\u001b[0m\u001b[0;34m:\u001b[0m\u001b[0;34m\u001b[0m\u001b[0;34m\u001b[0m\u001b[0m\n\u001b[1;32m    485\u001b[0m             \u001b[0;32mreturn\u001b[0m \u001b[0mif_false\u001b[0m\u001b[0;34m(\u001b[0m\u001b[0;34m*\u001b[0m\u001b[0margs\u001b[0m\u001b[0;34m,\u001b[0m \u001b[0;34m**\u001b[0m\u001b[0mkwargs\u001b[0m\u001b[0;34m)\u001b[0m\u001b[0;34m\u001b[0m\u001b[0;34m\u001b[0m\u001b[0m\n",
            "\u001b[0;31mTypeError\u001b[0m: _return_counts() got an unexpected keyword argument 'reverse_sorted'"
          ]
        }
      ]
    },
    {
      "cell_type": "markdown",
      "source": [
        "This code snippet gives us an error as we're attempting to sort in a reverse order, but unique doesn't contain a parameter calle reverse_sorted, giving rise to the error."
      ],
      "metadata": {
        "id": "-Y5YdrIOdvxj"
      }
    },
    {
      "cell_type": "markdown",
      "source": [],
      "metadata": {
        "id": "qBCl8Ueodvn9"
      }
    },
    {
      "cell_type": "markdown",
      "metadata": {
        "id": "XGHWobqoRBOw"
      },
      "source": [
        "## TORCH.UNSQUEEZE\n",
        "\n",
        "This function returns a new tensor with a dimension of size one inserted at the specified position.\n",
        "\n",
        "The returned tensor shares the same underlying data with this tensor."
      ]
    },
    {
      "cell_type": "code",
      "execution_count": null,
      "metadata": {
        "id": "L7Tz8KjrRBOw",
        "colab": {
          "base_uri": "https://localhost:8080/"
        },
        "outputId": "fee41533-d632-48b8-88f7-83810d0e1d8e"
      },
      "outputs": [
        {
          "output_type": "stream",
          "name": "stdout",
          "text": [
            "tensor([[1],\n",
            "        [2],\n",
            "        [3],\n",
            "        [4]])\n"
          ]
        }
      ],
      "source": [
        "x = torch.tensor([1, 2, 3, 4])\n",
        "print(torch.unsqueeze(x, 1))"
      ]
    },
    {
      "cell_type": "markdown",
      "metadata": {
        "id": "JgdSYqFBRBOw"
      },
      "source": [
        "Our tensor had shape (1,4). The dimension is set to 1, hence the new shape would be (1, 1, 4)."
      ]
    },
    {
      "cell_type": "code",
      "execution_count": null,
      "metadata": {
        "id": "66eRNY-TRBOw",
        "colab": {
          "base_uri": "https://localhost:8080/"
        },
        "outputId": "f35eece9-f610-4c03-e0bb-9f24056613be"
      },
      "outputs": [
        {
          "output_type": "stream",
          "name": "stdout",
          "text": [
            "tensor([[[1],\n",
            "         [2]],\n",
            "\n",
            "        [[3],\n",
            "         [4]]])\n"
          ]
        }
      ],
      "source": [
        "x = torch.tensor([[1, 2], [3, 4]])\n",
        "print(torch.unsqueeze(x, 2))"
      ]
    },
    {
      "cell_type": "markdown",
      "metadata": {
        "id": "fzv1fwyIRBOw"
      },
      "source": [
        "The original shape was (2, 2). Upon unsqueezing the tensor, the shape ends up being (2, 2, 1)"
      ]
    },
    {
      "cell_type": "code",
      "source": [
        "x = torch.tensor([[1, 2], [3, 4]])\n",
        "print(torch.unsqueeze(x, 3))"
      ],
      "metadata": {
        "colab": {
          "base_uri": "https://localhost:8080/",
          "height": 182
        },
        "id": "I_BrjEFKdBED",
        "outputId": "eb6b8e7a-8ef0-4a1a-9307-2b0c7e72a375"
      },
      "execution_count": null,
      "outputs": [
        {
          "output_type": "error",
          "ename": "IndexError",
          "evalue": "ignored",
          "traceback": [
            "\u001b[0;31m---------------------------------------------------------------------------\u001b[0m",
            "\u001b[0;31mIndexError\u001b[0m                                Traceback (most recent call last)",
            "\u001b[0;32m<ipython-input-41-7727b7c5266f>\u001b[0m in \u001b[0;36m<module>\u001b[0;34m\u001b[0m\n\u001b[1;32m      1\u001b[0m \u001b[0mx\u001b[0m \u001b[0;34m=\u001b[0m \u001b[0mtorch\u001b[0m\u001b[0;34m.\u001b[0m\u001b[0mtensor\u001b[0m\u001b[0;34m(\u001b[0m\u001b[0;34m[\u001b[0m\u001b[0;34m[\u001b[0m\u001b[0;36m1\u001b[0m\u001b[0;34m,\u001b[0m \u001b[0;36m2\u001b[0m\u001b[0;34m]\u001b[0m\u001b[0;34m,\u001b[0m \u001b[0;34m[\u001b[0m\u001b[0;36m3\u001b[0m\u001b[0;34m,\u001b[0m \u001b[0;36m4\u001b[0m\u001b[0;34m]\u001b[0m\u001b[0;34m]\u001b[0m\u001b[0;34m)\u001b[0m\u001b[0;34m\u001b[0m\u001b[0;34m\u001b[0m\u001b[0m\n\u001b[0;32m----> 2\u001b[0;31m \u001b[0mprint\u001b[0m\u001b[0;34m(\u001b[0m\u001b[0mtorch\u001b[0m\u001b[0;34m.\u001b[0m\u001b[0munsqueeze\u001b[0m\u001b[0;34m(\u001b[0m\u001b[0mx\u001b[0m\u001b[0;34m,\u001b[0m \u001b[0;36m3\u001b[0m\u001b[0;34m)\u001b[0m\u001b[0;34m)\u001b[0m\u001b[0;34m\u001b[0m\u001b[0;34m\u001b[0m\u001b[0m\n\u001b[0m",
            "\u001b[0;31mIndexError\u001b[0m: Dimension out of range (expected to be in range of [-3, 2], but got 3)"
          ]
        }
      ]
    },
    {
      "cell_type": "markdown",
      "source": [
        "In this case, obviously the shape of our tensor is (2, 2), and we're asking PyTorch to add a new dimension at index 3, which gives us an error."
      ],
      "metadata": {
        "id": "NE4HSyQLdEm_"
      }
    },
    {
      "cell_type": "markdown",
      "metadata": {
        "id": "AR36P7C9Rp4h"
      },
      "source": [
        "## TORCH.TENSOR.INDEX_ADD_\n",
        "\n",
        "This function is used to perform in-place addition between a tensor and another tensor with a subset of its values, selected by an index tensor. which takes parameters, dim, index, source, and  alpha. \n",
        "\n",
        "Dim is the dimension aong which the addition needs to be perfomred.\n",
        "\n",
        "self[index[i], :, :] += alpha * src[i, :, :]  # if dim == 0\n",
        "\n",
        "self[:, index[i], :] += alpha * src[:, i, :]  # if dim == 1\n",
        "\n",
        "self[:, :, index[i]] += alpha * src[:, :, i]  # if dim == 2\n",
        "\n"
      ]
    },
    {
      "cell_type": "code",
      "execution_count": null,
      "metadata": {
        "colab": {
          "base_uri": "https://localhost:8080/"
        },
        "outputId": "4ae9edf7-7e5f-4e8b-8adc-91b086a1a049",
        "id": "L0qP2811RxFG"
      },
      "outputs": [
        {
          "output_type": "stream",
          "name": "stdout",
          "text": [
            "tensor([[ 2.,  3.,  4.],\n",
            "        [ 1.,  1.,  1.],\n",
            "        [ 8.,  9., 10.],\n",
            "        [ 1.,  1.,  1.],\n",
            "        [ 5.,  6.,  7.]])\n"
          ]
        }
      ],
      "source": [
        "x = torch.ones(5, 3)\n",
        "t = torch.tensor([[1, 2, 3], [4, 5, 6], [7, 8, 9]], dtype=torch.float)\n",
        "index = torch.tensor([0, 4, 2])\n",
        "print(x.index_add_(0, index, t))\n",
        "#x.index_add_(0, index, t, alpha=-1)"
      ]
    },
    {
      "cell_type": "markdown",
      "source": [
        "According to the index tensor, the 0th row gets individually added to the first row of the 't' tensor. Hence the ouput is 1+1=2, 1+2=3, 1+3=4.\n",
        "The 1st and 3rd indices are left unchanged as they are not mentioned in the index tensor. \n",
        "\n",
        "Similar to the 0th row, the 5th row (4th index) and the 3rd row(2nd index) get respectivelly added to the 2nd and 3rd row of the 't' tensor."
      ],
      "metadata": {
        "id": "ARSGpEVQeait"
      }
    },
    {
      "cell_type": "code",
      "source": [
        "x = torch.zeros(5, 3)\n",
        "t = torch.tensor([[1, 2, 3], [4, 5, 6], [7, 8, 9]], dtype=torch.float)\n",
        "index = torch.tensor([0, 4, 2])\n",
        "print(x.index_add_(0, index, t, alpha = -1))"
      ],
      "metadata": {
        "colab": {
          "base_uri": "https://localhost:8080/"
        },
        "id": "U1hoMBcpd9k2",
        "outputId": "4561b85b-697e-4b48-a7a7-2aa40ea9932e"
      },
      "execution_count": null,
      "outputs": [
        {
          "output_type": "stream",
          "name": "stdout",
          "text": [
            "tensor([[-1., -2., -3.],\n",
            "        [ 0.,  0.,  0.],\n",
            "        [-7., -8., -9.],\n",
            "        [ 0.,  0.,  0.],\n",
            "        [-4., -5., -6.]])\n"
          ]
        }
      ]
    },
    {
      "cell_type": "markdown",
      "source": [
        "This example is identical to the 1st example, apart from the fact that alpha is set to -1 which signifies that the tensor 't' will be subtracted instead if getting added to the tensor 'x'."
      ],
      "metadata": {
        "id": "bs6eQ8j1fV3U"
      }
    },
    {
      "cell_type": "code",
      "source": [
        "x = torch.zeros(5, 3)\n",
        "t = torch.tensor([[1, 2, 3], [4, 5, 6], [7, 8, 9],[10, 11, 12]], dtype=torch.float)\n",
        "index = torch.tensor([0, 4, 2])\n",
        "print(x.index_add_(0, index, t, alpha = -1))"
      ],
      "metadata": {
        "colab": {
          "base_uri": "https://localhost:8080/",
          "height": 200
        },
        "id": "N8Cz1jxUfVYG",
        "outputId": "da21e15c-3043-454d-8c1f-c4f446b28ef2"
      },
      "execution_count": null,
      "outputs": [
        {
          "output_type": "error",
          "ename": "RuntimeError",
          "evalue": "ignored",
          "traceback": [
            "\u001b[0;31m---------------------------------------------------------------------------\u001b[0m",
            "\u001b[0;31mRuntimeError\u001b[0m                              Traceback (most recent call last)",
            "\u001b[0;32m<ipython-input-51-695801ec30ea>\u001b[0m in \u001b[0;36m<module>\u001b[0;34m\u001b[0m\n\u001b[1;32m      2\u001b[0m \u001b[0mt\u001b[0m \u001b[0;34m=\u001b[0m \u001b[0mtorch\u001b[0m\u001b[0;34m.\u001b[0m\u001b[0mtensor\u001b[0m\u001b[0;34m(\u001b[0m\u001b[0;34m[\u001b[0m\u001b[0;34m[\u001b[0m\u001b[0;36m1\u001b[0m\u001b[0;34m,\u001b[0m \u001b[0;36m2\u001b[0m\u001b[0;34m,\u001b[0m \u001b[0;36m3\u001b[0m\u001b[0;34m]\u001b[0m\u001b[0;34m,\u001b[0m \u001b[0;34m[\u001b[0m\u001b[0;36m4\u001b[0m\u001b[0;34m,\u001b[0m \u001b[0;36m5\u001b[0m\u001b[0;34m,\u001b[0m \u001b[0;36m6\u001b[0m\u001b[0;34m]\u001b[0m\u001b[0;34m,\u001b[0m \u001b[0;34m[\u001b[0m\u001b[0;36m7\u001b[0m\u001b[0;34m,\u001b[0m \u001b[0;36m8\u001b[0m\u001b[0;34m,\u001b[0m \u001b[0;36m9\u001b[0m\u001b[0;34m]\u001b[0m\u001b[0;34m,\u001b[0m\u001b[0;34m[\u001b[0m\u001b[0;36m10\u001b[0m\u001b[0;34m,\u001b[0m \u001b[0;36m11\u001b[0m\u001b[0;34m,\u001b[0m \u001b[0;36m12\u001b[0m\u001b[0;34m]\u001b[0m\u001b[0;34m]\u001b[0m\u001b[0;34m,\u001b[0m \u001b[0mdtype\u001b[0m\u001b[0;34m=\u001b[0m\u001b[0mtorch\u001b[0m\u001b[0;34m.\u001b[0m\u001b[0mfloat\u001b[0m\u001b[0;34m)\u001b[0m\u001b[0;34m\u001b[0m\u001b[0;34m\u001b[0m\u001b[0m\n\u001b[1;32m      3\u001b[0m \u001b[0mindex\u001b[0m \u001b[0;34m=\u001b[0m \u001b[0mtorch\u001b[0m\u001b[0;34m.\u001b[0m\u001b[0mtensor\u001b[0m\u001b[0;34m(\u001b[0m\u001b[0;34m[\u001b[0m\u001b[0;36m0\u001b[0m\u001b[0;34m,\u001b[0m \u001b[0;36m4\u001b[0m\u001b[0;34m,\u001b[0m \u001b[0;36m2\u001b[0m\u001b[0;34m]\u001b[0m\u001b[0;34m)\u001b[0m\u001b[0;34m\u001b[0m\u001b[0;34m\u001b[0m\u001b[0m\n\u001b[0;32m----> 4\u001b[0;31m \u001b[0mprint\u001b[0m\u001b[0;34m(\u001b[0m\u001b[0mx\u001b[0m\u001b[0;34m.\u001b[0m\u001b[0mindex_add_\u001b[0m\u001b[0;34m(\u001b[0m\u001b[0;36m0\u001b[0m\u001b[0;34m,\u001b[0m \u001b[0mindex\u001b[0m\u001b[0;34m,\u001b[0m \u001b[0mt\u001b[0m\u001b[0;34m,\u001b[0m \u001b[0malpha\u001b[0m \u001b[0;34m=\u001b[0m \u001b[0;34m-\u001b[0m\u001b[0;36m1\u001b[0m\u001b[0;34m)\u001b[0m\u001b[0;34m)\u001b[0m\u001b[0;34m\u001b[0m\u001b[0;34m\u001b[0m\u001b[0m\n\u001b[0m",
            "\u001b[0;31mRuntimeError\u001b[0m: index_add_(): Number of indices (3) should be equal to source.size(dim): (4), for dim: 0"
          ]
        }
      ]
    },
    {
      "cell_type": "markdown",
      "source": [
        "As you can clearly see, the size of the tensor 't' and ad the number of inidices aren't equal, giving rise to an obvious error."
      ],
      "metadata": {
        "id": "WSu9bfHFhMII"
      }
    },
    {
      "cell_type": "code",
      "source": [],
      "metadata": {
        "id": "h1czwqhihLtI"
      },
      "execution_count": null,
      "outputs": []
    },
    {
      "cell_type": "markdown",
      "metadata": {
        "id": "_nx32u6hRBO2"
      },
      "source": [
        "## Conclusion\n",
        "\n",
        "I hope you had as much fun reading about these functions as I had. The source for all of them is the official PyTorch documentation. The next step for me, and for my fellow dummies should be to use more of these functions in our everyday projects, trying to make life easier.\n",
        "\n",
        "For example, if you want to select rows from a multi-dimensional tensor, you can run a for loop, and get the values you're looking for, but how about trying torch.tensor.unbind?"
      ]
    },
    {
      "cell_type": "markdown",
      "metadata": {
        "id": "c1mW0-MLRBO2"
      },
      "source": [
        "## Reference Links\n",
        "Provide links to your references and other interesting articles about tensors\n",
        "* Official documentation for tensor operations: https://pytorch.org/docs/stable/torch.html\n"
      ]
    },
    {
      "cell_type": "code",
      "source": [
        "!pip install jovian --upgrade --quiet"
      ],
      "metadata": {
        "colab": {
          "base_uri": "https://localhost:8080/"
        },
        "id": "5XUr5NUxbr1i",
        "outputId": "f7979af6-6140-4f74-8b40-a38741daa23b"
      },
      "execution_count": null,
      "outputs": [
        {
          "output_type": "stream",
          "name": "stdout",
          "text": [
            "\u001b[?25l     \u001b[90m━━━━━━━━━━━━━━━━━━━━━━━━━━━━━━━━━━━━━━━━\u001b[0m \u001b[32m0.0/68.6 KB\u001b[0m \u001b[31m?\u001b[0m eta \u001b[36m-:--:--\u001b[0m\r\u001b[2K     \u001b[90m━━━━━━━━━━━━━━━━━━━━━━━━━━━━━━━━━━━━━━━━\u001b[0m \u001b[32m68.6/68.6 KB\u001b[0m \u001b[31m2.2 MB/s\u001b[0m eta \u001b[36m0:00:00\u001b[0m\n",
            "\u001b[?25h  Preparing metadata (setup.py) ... \u001b[?25l\u001b[?25hdone\n",
            "  Building wheel for uuid (setup.py) ... \u001b[?25l\u001b[?25hdone\n"
          ]
        }
      ]
    },
    {
      "cell_type": "code",
      "source": [
        "import jovian"
      ],
      "metadata": {
        "id": "BdCfEDWubwzq"
      },
      "execution_count": null,
      "outputs": []
    },
    {
      "cell_type": "code",
      "execution_count": null,
      "metadata": {
        "id": "h_jps5j2RBO3",
        "outputId": "eaa0ccb4-de6e-49a1-d066-60e310d9edad",
        "colab": {
          "base_uri": "https://localhost:8080/"
        }
      },
      "outputs": [
        {
          "output_type": "stream",
          "name": "stdout",
          "text": [
            "[jovian] Detected Colab notebook...\u001b[0m\n",
            "[jovian] jovian.commit() is no longer required on Google Colab. If you ran this notebook from Jovian, \n",
            "then just save this file in Colab using Ctrl+S/Cmd+S and it will be updated on Jovian. \n",
            "Also, you can also delete this cell, it's no longer necessary.\u001b[0m\n"
          ]
        }
      ],
      "source": [
        "jovian.commit(project='01-tensor-operations-assignment-01')"
      ]
    }
  ],
  "metadata": {
    "kernelspec": {
      "display_name": "Python 3",
      "language": "python",
      "name": "python3"
    },
    "language_info": {
      "codemirror_mode": {
        "name": "ipython",
        "version": 3
      },
      "file_extension": ".py",
      "mimetype": "text/x-python",
      "name": "python",
      "nbconvert_exporter": "python",
      "pygments_lexer": "ipython3",
      "version": "3.8.5"
    },
    "colab": {
      "provenance": []
    }
  },
  "nbformat": 4,
  "nbformat_minor": 0
}