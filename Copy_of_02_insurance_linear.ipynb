{
  "cells": [
    {
      "cell_type": "markdown",
      "metadata": {
        "_cell_guid": "b1076dfc-b9ad-4769-8c92-a6c4dae69d19",
        "_uuid": "8f2839f25d086af736a60e9eeb907d3b93b6e0e5",
        "id": "INcmUxrSEgdy"
      },
      "source": [
        "# Insurance cost prediction using linear regression\n",
        "\n",
        "Make a submisson here: https://jovian.ai/learn/deep-learning-with-pytorch-zero-to-gans/assignment/assignment-2-train-your-first-model\n",
        "\n",
        "In this assignment we're going to use information like a person's age, sex, BMI, no. of children and smoking habit to predict the price of yearly medical bills. This kind of model is useful for insurance companies to determine the yearly insurance premium for a person. The dataset for this problem is taken from [Kaggle](https://www.kaggle.com/mirichoi0218/insurance).\n",
        "\n",
        "\n",
        "We will create a model with the following steps:\n",
        "1. Download and explore the dataset\n",
        "2. Prepare the dataset for training\n",
        "3. Create a linear regression model\n",
        "4. Train the model to fit the data\n",
        "5. Make predictions using the trained model\n",
        "\n",
        "\n",
        "This assignment builds upon the concepts from the first 2 lessons. It will help to review these Jupyter notebooks:\n",
        "- PyTorch basics: https://jovian.ai/aakashns/01-pytorch-basics\n",
        "- Linear Regression: https://jovian.ai/aakashns/02-linear-regression\n",
        "- Logistic Regression: https://jovian.ai/aakashns/03-logistic-regression\n",
        "- Linear regression (minimal): https://jovian.ai/aakashns/housing-linear-minimal\n",
        "- Logistic regression (minimal): https://jovian.ai/aakashns/mnist-logistic-minimal\n",
        "\n",
        "As you go through this notebook, you will find a **???** in certain places. Your job is to replace the **???** with appropriate code or values, to ensure that the notebook runs properly end-to-end . In some cases, you'll be required to choose some hyperparameters (learning rate, batch size etc.). Try to experiment with the hypeparameters to get the lowest loss.\n"
      ]
    },
    {
      "cell_type": "code",
      "execution_count": null,
      "metadata": {
        "id": "whumbwpUEgd6"
      },
      "outputs": [],
      "source": [
        "# Uncomment and run the appropriate command for your operating system, if required\n",
        "\n",
        "# Linux / Binder\n",
        "# !pip install numpy matplotlib pandas torch==1.7.0+cpu torchvision==0.8.1+cpu torchaudio==0.7.0 -f https://download.pytorch.org/whl/torch_stable.html\n",
        "\n",
        "# Windows\n",
        "# !pip install numpy matplotlib pandas torch==1.7.0+cpu torchvision==0.8.1+cpu torchaudio==0.7.0 -f https://download.pytorch.org/whl/torch_stable.html\n",
        "\n",
        "# MacOS\n",
        "# !pip install numpy matplotlib pandas torch torchvision torchaudio"
      ]
    },
    {
      "cell_type": "code",
      "execution_count": null,
      "metadata": {
        "id": "z0Efgh6EEgd9"
      },
      "outputs": [],
      "source": [
        "import torch\n",
        "import jovian\n",
        "import torchvision\n",
        "import torch.nn as nn\n",
        "import pandas as pd\n",
        "import matplotlib.pyplot as plt\n",
        "import torch.nn.functional as F\n",
        "from torchvision.datasets.utils import download_url\n",
        "from torch.utils.data import DataLoader, TensorDataset, random_split"
      ]
    },
    {
      "cell_type": "code",
      "execution_count": null,
      "metadata": {
        "id": "qGSRciyIEgd-"
      },
      "outputs": [],
      "source": [
        "project_name='02-insurance-linear-regression' # will be used by jovian.commit"
      ]
    },
    {
      "cell_type": "markdown",
      "metadata": {
        "id": "5KILGHGvEgd_"
      },
      "source": [
        "## Step 1: Download and explore the data\n",
        "\n",
        "Let us begin by downloading the data. We'll use the `download_url` function from PyTorch to get the data as a CSV (comma-separated values) file. "
      ]
    },
    {
      "cell_type": "code",
      "execution_count": null,
      "metadata": {
        "_cell_guid": "79c7e3d0-c299-4dcb-8224-4455121ee9b0",
        "_uuid": "d629ff2d2480ee46fbb7e2d37f6b5fab8052498a",
        "id": "co_UN2VzEgeA",
        "outputId": "23ed3805-88c3-4a00-fd9c-e73f7bcf79b2",
        "colab": {
          "base_uri": "https://localhost:8080/"
        }
      },
      "outputs": [
        {
          "output_type": "stream",
          "name": "stdout",
          "text": [
            "Using downloaded and verified file: ./insurance.csv\n"
          ]
        }
      ],
      "source": [
        "DATASET_URL = \"https://gist.github.com/BirajCoder/5f068dfe759c1ea6bdfce9535acdb72d/raw/c84d84e3c80f93be67f6c069cbdc0195ec36acbd/insurance.csv\"\n",
        "DATA_FILENAME = \"insurance.csv\"\n",
        "download_url(DATASET_URL, '.')"
      ]
    },
    {
      "cell_type": "markdown",
      "metadata": {
        "id": "dAL91DAdEgeB"
      },
      "source": [
        "To load the dataset into memory, we'll use the `read_csv` function from the `pandas` library. The data will be loaded as a Pandas dataframe. See this short tutorial to learn more: https://data36.com/pandas-tutorial-1-basics-reading-data-files-dataframes-data-selection/"
      ]
    },
    {
      "cell_type": "code",
      "execution_count": null,
      "metadata": {
        "id": "ZFZvz53DEgeC",
        "outputId": "2f923d40-fcbf-46ff-f392-0cc04ecfc32f",
        "colab": {
          "base_uri": "https://localhost:8080/",
          "height": 206
        }
      },
      "outputs": [
        {
          "output_type": "execute_result",
          "data": {
            "text/plain": [
              "   age     sex     bmi  children smoker     region      charges\n",
              "0   19  female  27.900         0    yes  southwest  16884.92400\n",
              "1   18    male  33.770         1     no  southeast   1725.55230\n",
              "2   28    male  33.000         3     no  southeast   4449.46200\n",
              "3   33    male  22.705         0     no  northwest  21984.47061\n",
              "4   32    male  28.880         0     no  northwest   3866.85520"
            ],
            "text/html": [
              "\n",
              "  <div id=\"df-466adfd0-3e35-4839-a59b-e7e23ea6d68c\">\n",
              "    <div class=\"colab-df-container\">\n",
              "      <div>\n",
              "<style scoped>\n",
              "    .dataframe tbody tr th:only-of-type {\n",
              "        vertical-align: middle;\n",
              "    }\n",
              "\n",
              "    .dataframe tbody tr th {\n",
              "        vertical-align: top;\n",
              "    }\n",
              "\n",
              "    .dataframe thead th {\n",
              "        text-align: right;\n",
              "    }\n",
              "</style>\n",
              "<table border=\"1\" class=\"dataframe\">\n",
              "  <thead>\n",
              "    <tr style=\"text-align: right;\">\n",
              "      <th></th>\n",
              "      <th>age</th>\n",
              "      <th>sex</th>\n",
              "      <th>bmi</th>\n",
              "      <th>children</th>\n",
              "      <th>smoker</th>\n",
              "      <th>region</th>\n",
              "      <th>charges</th>\n",
              "    </tr>\n",
              "  </thead>\n",
              "  <tbody>\n",
              "    <tr>\n",
              "      <th>0</th>\n",
              "      <td>19</td>\n",
              "      <td>female</td>\n",
              "      <td>27.900</td>\n",
              "      <td>0</td>\n",
              "      <td>yes</td>\n",
              "      <td>southwest</td>\n",
              "      <td>16884.92400</td>\n",
              "    </tr>\n",
              "    <tr>\n",
              "      <th>1</th>\n",
              "      <td>18</td>\n",
              "      <td>male</td>\n",
              "      <td>33.770</td>\n",
              "      <td>1</td>\n",
              "      <td>no</td>\n",
              "      <td>southeast</td>\n",
              "      <td>1725.55230</td>\n",
              "    </tr>\n",
              "    <tr>\n",
              "      <th>2</th>\n",
              "      <td>28</td>\n",
              "      <td>male</td>\n",
              "      <td>33.000</td>\n",
              "      <td>3</td>\n",
              "      <td>no</td>\n",
              "      <td>southeast</td>\n",
              "      <td>4449.46200</td>\n",
              "    </tr>\n",
              "    <tr>\n",
              "      <th>3</th>\n",
              "      <td>33</td>\n",
              "      <td>male</td>\n",
              "      <td>22.705</td>\n",
              "      <td>0</td>\n",
              "      <td>no</td>\n",
              "      <td>northwest</td>\n",
              "      <td>21984.47061</td>\n",
              "    </tr>\n",
              "    <tr>\n",
              "      <th>4</th>\n",
              "      <td>32</td>\n",
              "      <td>male</td>\n",
              "      <td>28.880</td>\n",
              "      <td>0</td>\n",
              "      <td>no</td>\n",
              "      <td>northwest</td>\n",
              "      <td>3866.85520</td>\n",
              "    </tr>\n",
              "  </tbody>\n",
              "</table>\n",
              "</div>\n",
              "      <button class=\"colab-df-convert\" onclick=\"convertToInteractive('df-466adfd0-3e35-4839-a59b-e7e23ea6d68c')\"\n",
              "              title=\"Convert this dataframe to an interactive table.\"\n",
              "              style=\"display:none;\">\n",
              "        \n",
              "  <svg xmlns=\"http://www.w3.org/2000/svg\" height=\"24px\"viewBox=\"0 0 24 24\"\n",
              "       width=\"24px\">\n",
              "    <path d=\"M0 0h24v24H0V0z\" fill=\"none\"/>\n",
              "    <path d=\"M18.56 5.44l.94 2.06.94-2.06 2.06-.94-2.06-.94-.94-2.06-.94 2.06-2.06.94zm-11 1L8.5 8.5l.94-2.06 2.06-.94-2.06-.94L8.5 2.5l-.94 2.06-2.06.94zm10 10l.94 2.06.94-2.06 2.06-.94-2.06-.94-.94-2.06-.94 2.06-2.06.94z\"/><path d=\"M17.41 7.96l-1.37-1.37c-.4-.4-.92-.59-1.43-.59-.52 0-1.04.2-1.43.59L10.3 9.45l-7.72 7.72c-.78.78-.78 2.05 0 2.83L4 21.41c.39.39.9.59 1.41.59.51 0 1.02-.2 1.41-.59l7.78-7.78 2.81-2.81c.8-.78.8-2.07 0-2.86zM5.41 20L4 18.59l7.72-7.72 1.47 1.35L5.41 20z\"/>\n",
              "  </svg>\n",
              "      </button>\n",
              "      \n",
              "  <style>\n",
              "    .colab-df-container {\n",
              "      display:flex;\n",
              "      flex-wrap:wrap;\n",
              "      gap: 12px;\n",
              "    }\n",
              "\n",
              "    .colab-df-convert {\n",
              "      background-color: #E8F0FE;\n",
              "      border: none;\n",
              "      border-radius: 50%;\n",
              "      cursor: pointer;\n",
              "      display: none;\n",
              "      fill: #1967D2;\n",
              "      height: 32px;\n",
              "      padding: 0 0 0 0;\n",
              "      width: 32px;\n",
              "    }\n",
              "\n",
              "    .colab-df-convert:hover {\n",
              "      background-color: #E2EBFA;\n",
              "      box-shadow: 0px 1px 2px rgba(60, 64, 67, 0.3), 0px 1px 3px 1px rgba(60, 64, 67, 0.15);\n",
              "      fill: #174EA6;\n",
              "    }\n",
              "\n",
              "    [theme=dark] .colab-df-convert {\n",
              "      background-color: #3B4455;\n",
              "      fill: #D2E3FC;\n",
              "    }\n",
              "\n",
              "    [theme=dark] .colab-df-convert:hover {\n",
              "      background-color: #434B5C;\n",
              "      box-shadow: 0px 1px 3px 1px rgba(0, 0, 0, 0.15);\n",
              "      filter: drop-shadow(0px 1px 2px rgba(0, 0, 0, 0.3));\n",
              "      fill: #FFFFFF;\n",
              "    }\n",
              "  </style>\n",
              "\n",
              "      <script>\n",
              "        const buttonEl =\n",
              "          document.querySelector('#df-466adfd0-3e35-4839-a59b-e7e23ea6d68c button.colab-df-convert');\n",
              "        buttonEl.style.display =\n",
              "          google.colab.kernel.accessAllowed ? 'block' : 'none';\n",
              "\n",
              "        async function convertToInteractive(key) {\n",
              "          const element = document.querySelector('#df-466adfd0-3e35-4839-a59b-e7e23ea6d68c');\n",
              "          const dataTable =\n",
              "            await google.colab.kernel.invokeFunction('convertToInteractive',\n",
              "                                                     [key], {});\n",
              "          if (!dataTable) return;\n",
              "\n",
              "          const docLinkHtml = 'Like what you see? Visit the ' +\n",
              "            '<a target=\"_blank\" href=https://colab.research.google.com/notebooks/data_table.ipynb>data table notebook</a>'\n",
              "            + ' to learn more about interactive tables.';\n",
              "          element.innerHTML = '';\n",
              "          dataTable['output_type'] = 'display_data';\n",
              "          await google.colab.output.renderOutput(dataTable, element);\n",
              "          const docLink = document.createElement('div');\n",
              "          docLink.innerHTML = docLinkHtml;\n",
              "          element.appendChild(docLink);\n",
              "        }\n",
              "      </script>\n",
              "    </div>\n",
              "  </div>\n",
              "  "
            ]
          },
          "metadata": {},
          "execution_count": 128
        }
      ],
      "source": [
        "dataframe_raw = pd.read_csv(DATA_FILENAME)\n",
        "dataframe_raw.head()"
      ]
    },
    {
      "cell_type": "markdown",
      "metadata": {
        "id": "-inQ5cjWEgeD"
      },
      "source": [
        "We're going to do a slight customization of the data, so that you every participant receives a slightly different version of the dataset. Fill in your name below as a string (enter at least 5 characters)"
      ]
    },
    {
      "cell_type": "code",
      "execution_count": null,
      "metadata": {
        "id": "ih6LeoQNEgeE"
      },
      "outputs": [],
      "source": [
        "your_name = \"suiii\" # at least 5 characters"
      ]
    },
    {
      "cell_type": "markdown",
      "metadata": {
        "id": "bOlXcflmEgeE"
      },
      "source": [
        "The `customize_dataset` function will customize the dataset slightly using your name as a source of random numbers."
      ]
    },
    {
      "cell_type": "code",
      "execution_count": null,
      "metadata": {
        "id": "_2G1PiXfEgeE"
      },
      "outputs": [],
      "source": [
        "def customize_dataset(dataframe_raw, rand_str):\n",
        "    dataframe = dataframe_raw.copy(deep=True)\n",
        "    # drop some rows\n",
        "    dataframe = dataframe.sample(int(0.95*len(dataframe)), random_state=int(ord(rand_str[0])))\n",
        "    # scale input\n",
        "    dataframe.bmi = dataframe.bmi * ord(rand_str[1])/100.\n",
        "    # scale target\n",
        "    dataframe.charges = dataframe.charges * ord(rand_str[2])/100.\n",
        "    # drop column\n",
        "    if ord(rand_str[3]) % 2 == 1:\n",
        "        dataframe = dataframe.drop(['region'], axis=1)\n",
        "    return dataframe"
      ]
    },
    {
      "cell_type": "code",
      "execution_count": null,
      "metadata": {
        "id": "wYCcOXR3EgeF",
        "outputId": "d2255d44-7d8f-4c8b-c539-f043efac5240",
        "colab": {
          "base_uri": "https://localhost:8080/",
          "height": 206
        }
      },
      "outputs": [
        {
          "output_type": "execute_result",
          "data": {
            "text/plain": [
              "      age     sex       bmi  children smoker      charges\n",
              "1178   23  female  40.79205         0     no  3044.463818\n",
              "1295   20    male  25.74000         1     no  2063.019000\n",
              "205    28  female  33.78960         1     no  4554.621960\n",
              "1067   39    male  49.90635         0     no  6045.284123\n",
              "523    38  female  44.14410         0     no  5667.497535"
            ],
            "text/html": [
              "\n",
              "  <div id=\"df-f8c9d4e8-e182-4805-8f0d-bbeecea9d0d7\">\n",
              "    <div class=\"colab-df-container\">\n",
              "      <div>\n",
              "<style scoped>\n",
              "    .dataframe tbody tr th:only-of-type {\n",
              "        vertical-align: middle;\n",
              "    }\n",
              "\n",
              "    .dataframe tbody tr th {\n",
              "        vertical-align: top;\n",
              "    }\n",
              "\n",
              "    .dataframe thead th {\n",
              "        text-align: right;\n",
              "    }\n",
              "</style>\n",
              "<table border=\"1\" class=\"dataframe\">\n",
              "  <thead>\n",
              "    <tr style=\"text-align: right;\">\n",
              "      <th></th>\n",
              "      <th>age</th>\n",
              "      <th>sex</th>\n",
              "      <th>bmi</th>\n",
              "      <th>children</th>\n",
              "      <th>smoker</th>\n",
              "      <th>charges</th>\n",
              "    </tr>\n",
              "  </thead>\n",
              "  <tbody>\n",
              "    <tr>\n",
              "      <th>1178</th>\n",
              "      <td>23</td>\n",
              "      <td>female</td>\n",
              "      <td>40.79205</td>\n",
              "      <td>0</td>\n",
              "      <td>no</td>\n",
              "      <td>3044.463818</td>\n",
              "    </tr>\n",
              "    <tr>\n",
              "      <th>1295</th>\n",
              "      <td>20</td>\n",
              "      <td>male</td>\n",
              "      <td>25.74000</td>\n",
              "      <td>1</td>\n",
              "      <td>no</td>\n",
              "      <td>2063.019000</td>\n",
              "    </tr>\n",
              "    <tr>\n",
              "      <th>205</th>\n",
              "      <td>28</td>\n",
              "      <td>female</td>\n",
              "      <td>33.78960</td>\n",
              "      <td>1</td>\n",
              "      <td>no</td>\n",
              "      <td>4554.621960</td>\n",
              "    </tr>\n",
              "    <tr>\n",
              "      <th>1067</th>\n",
              "      <td>39</td>\n",
              "      <td>male</td>\n",
              "      <td>49.90635</td>\n",
              "      <td>0</td>\n",
              "      <td>no</td>\n",
              "      <td>6045.284123</td>\n",
              "    </tr>\n",
              "    <tr>\n",
              "      <th>523</th>\n",
              "      <td>38</td>\n",
              "      <td>female</td>\n",
              "      <td>44.14410</td>\n",
              "      <td>0</td>\n",
              "      <td>no</td>\n",
              "      <td>5667.497535</td>\n",
              "    </tr>\n",
              "  </tbody>\n",
              "</table>\n",
              "</div>\n",
              "      <button class=\"colab-df-convert\" onclick=\"convertToInteractive('df-f8c9d4e8-e182-4805-8f0d-bbeecea9d0d7')\"\n",
              "              title=\"Convert this dataframe to an interactive table.\"\n",
              "              style=\"display:none;\">\n",
              "        \n",
              "  <svg xmlns=\"http://www.w3.org/2000/svg\" height=\"24px\"viewBox=\"0 0 24 24\"\n",
              "       width=\"24px\">\n",
              "    <path d=\"M0 0h24v24H0V0z\" fill=\"none\"/>\n",
              "    <path d=\"M18.56 5.44l.94 2.06.94-2.06 2.06-.94-2.06-.94-.94-2.06-.94 2.06-2.06.94zm-11 1L8.5 8.5l.94-2.06 2.06-.94-2.06-.94L8.5 2.5l-.94 2.06-2.06.94zm10 10l.94 2.06.94-2.06 2.06-.94-2.06-.94-.94-2.06-.94 2.06-2.06.94z\"/><path d=\"M17.41 7.96l-1.37-1.37c-.4-.4-.92-.59-1.43-.59-.52 0-1.04.2-1.43.59L10.3 9.45l-7.72 7.72c-.78.78-.78 2.05 0 2.83L4 21.41c.39.39.9.59 1.41.59.51 0 1.02-.2 1.41-.59l7.78-7.78 2.81-2.81c.8-.78.8-2.07 0-2.86zM5.41 20L4 18.59l7.72-7.72 1.47 1.35L5.41 20z\"/>\n",
              "  </svg>\n",
              "      </button>\n",
              "      \n",
              "  <style>\n",
              "    .colab-df-container {\n",
              "      display:flex;\n",
              "      flex-wrap:wrap;\n",
              "      gap: 12px;\n",
              "    }\n",
              "\n",
              "    .colab-df-convert {\n",
              "      background-color: #E8F0FE;\n",
              "      border: none;\n",
              "      border-radius: 50%;\n",
              "      cursor: pointer;\n",
              "      display: none;\n",
              "      fill: #1967D2;\n",
              "      height: 32px;\n",
              "      padding: 0 0 0 0;\n",
              "      width: 32px;\n",
              "    }\n",
              "\n",
              "    .colab-df-convert:hover {\n",
              "      background-color: #E2EBFA;\n",
              "      box-shadow: 0px 1px 2px rgba(60, 64, 67, 0.3), 0px 1px 3px 1px rgba(60, 64, 67, 0.15);\n",
              "      fill: #174EA6;\n",
              "    }\n",
              "\n",
              "    [theme=dark] .colab-df-convert {\n",
              "      background-color: #3B4455;\n",
              "      fill: #D2E3FC;\n",
              "    }\n",
              "\n",
              "    [theme=dark] .colab-df-convert:hover {\n",
              "      background-color: #434B5C;\n",
              "      box-shadow: 0px 1px 3px 1px rgba(0, 0, 0, 0.15);\n",
              "      filter: drop-shadow(0px 1px 2px rgba(0, 0, 0, 0.3));\n",
              "      fill: #FFFFFF;\n",
              "    }\n",
              "  </style>\n",
              "\n",
              "      <script>\n",
              "        const buttonEl =\n",
              "          document.querySelector('#df-f8c9d4e8-e182-4805-8f0d-bbeecea9d0d7 button.colab-df-convert');\n",
              "        buttonEl.style.display =\n",
              "          google.colab.kernel.accessAllowed ? 'block' : 'none';\n",
              "\n",
              "        async function convertToInteractive(key) {\n",
              "          const element = document.querySelector('#df-f8c9d4e8-e182-4805-8f0d-bbeecea9d0d7');\n",
              "          const dataTable =\n",
              "            await google.colab.kernel.invokeFunction('convertToInteractive',\n",
              "                                                     [key], {});\n",
              "          if (!dataTable) return;\n",
              "\n",
              "          const docLinkHtml = 'Like what you see? Visit the ' +\n",
              "            '<a target=\"_blank\" href=https://colab.research.google.com/notebooks/data_table.ipynb>data table notebook</a>'\n",
              "            + ' to learn more about interactive tables.';\n",
              "          element.innerHTML = '';\n",
              "          dataTable['output_type'] = 'display_data';\n",
              "          await google.colab.output.renderOutput(dataTable, element);\n",
              "          const docLink = document.createElement('div');\n",
              "          docLink.innerHTML = docLinkHtml;\n",
              "          element.appendChild(docLink);\n",
              "        }\n",
              "      </script>\n",
              "    </div>\n",
              "  </div>\n",
              "  "
            ]
          },
          "metadata": {},
          "execution_count": 131
        }
      ],
      "source": [
        "dataframe = customize_dataset(dataframe_raw, your_name)\n",
        "dataframe.head()"
      ]
    },
    {
      "cell_type": "code",
      "source": [
        "dataframe.shape"
      ],
      "metadata": {
        "id": "odJl8hJyFtee",
        "outputId": "98d09560-d6f0-466e-cf58-7a2256fb70ba",
        "colab": {
          "base_uri": "https://localhost:8080/"
        }
      },
      "execution_count": null,
      "outputs": [
        {
          "output_type": "execute_result",
          "data": {
            "text/plain": [
              "(1271, 6)"
            ]
          },
          "metadata": {},
          "execution_count": 132
        }
      ]
    },
    {
      "cell_type": "markdown",
      "metadata": {
        "id": "wPVplDVoEgeF"
      },
      "source": [
        "Let us answer some basic questions about the dataset. \n",
        "\n",
        "\n",
        "**Q1: How many rows does the dataset have?**"
      ]
    },
    {
      "cell_type": "code",
      "execution_count": null,
      "metadata": {
        "id": "z9JR-csNEgeG",
        "outputId": "2f251789-cc2f-4432-b887-1cbdb547ce9c",
        "colab": {
          "base_uri": "https://localhost:8080/"
        }
      },
      "outputs": [
        {
          "output_type": "stream",
          "name": "stdout",
          "text": [
            "1271\n"
          ]
        }
      ],
      "source": [
        "num_rows = 1271\n",
        "print(num_rows)"
      ]
    },
    {
      "cell_type": "markdown",
      "metadata": {
        "id": "ompVobN5EgeG"
      },
      "source": [
        "**Q2: How many columns doe the dataset have**"
      ]
    },
    {
      "cell_type": "code",
      "execution_count": null,
      "metadata": {
        "id": "lWvvDarCEgeG",
        "outputId": "596407c2-1331-40c7-e02a-06b9ca112087",
        "colab": {
          "base_uri": "https://localhost:8080/"
        }
      },
      "outputs": [
        {
          "output_type": "stream",
          "name": "stdout",
          "text": [
            "6\n"
          ]
        }
      ],
      "source": [
        "num_cols = 6\n",
        "print(num_cols)"
      ]
    },
    {
      "cell_type": "markdown",
      "metadata": {
        "id": "9DdwFS8oEgeH"
      },
      "source": [
        "**Q3: What are the column titles of the input variables?**"
      ]
    },
    {
      "cell_type": "code",
      "source": [
        "dataframe.columns"
      ],
      "metadata": {
        "id": "pcMqhrmmF2_0",
        "outputId": "bc8125c5-d2f1-4772-d795-0a07986e3433",
        "colab": {
          "base_uri": "https://localhost:8080/"
        }
      },
      "execution_count": null,
      "outputs": [
        {
          "output_type": "execute_result",
          "data": {
            "text/plain": [
              "Index(['age', 'sex', 'bmi', 'children', 'smoker', 'charges'], dtype='object')"
            ]
          },
          "metadata": {},
          "execution_count": 135
        }
      ]
    },
    {
      "cell_type": "code",
      "execution_count": null,
      "metadata": {
        "id": "YkpXayWqEgeH"
      },
      "outputs": [],
      "source": [
        "input_cols = ['age', 'sex', 'bmi', 'children', 'smoker', 'charges']"
      ]
    },
    {
      "cell_type": "markdown",
      "metadata": {
        "id": "lB8jmH5rEgeH"
      },
      "source": [
        "**Q4: Which of the input columns are non-numeric or categorial variables ?**\n",
        "\n",
        "Hint: `sex` is one of them. List the columns that are not numbers."
      ]
    },
    {
      "cell_type": "code",
      "execution_count": null,
      "metadata": {
        "id": "DeIkNEdeEgeH"
      },
      "outputs": [],
      "source": [
        "categorical_cols = ['sex', 'smoker']"
      ]
    },
    {
      "cell_type": "markdown",
      "metadata": {
        "id": "lp0kfRHOEgeI"
      },
      "source": [
        "**Q5: What are the column titles of output/target variable(s)?**"
      ]
    },
    {
      "cell_type": "code",
      "execution_count": null,
      "metadata": {
        "id": "YyMjEUmQEgeI"
      },
      "outputs": [],
      "source": [
        "output_cols = ['charges']"
      ]
    },
    {
      "cell_type": "markdown",
      "metadata": {
        "id": "kfwZbtieEgeI"
      },
      "source": [
        "**Q: (Optional) What is the minimum, maximum and average value of the `charges` column? Can you show the distribution of values in a graph?**\n",
        "Use this data visualization cheatsheet for referece: https://jovian.ai/aakashns/dataviz-cheatsheet"
      ]
    },
    {
      "cell_type": "code",
      "execution_count": null,
      "metadata": {
        "id": "lySdP1HuEgeJ"
      },
      "outputs": [],
      "source": [
        "# Write your answer here"
      ]
    },
    {
      "cell_type": "markdown",
      "metadata": {
        "id": "NQv0P8bdEgeJ"
      },
      "source": [
        "Remember to commit your notebook to Jovian after every step, so that you don't lose your work."
      ]
    },
    {
      "cell_type": "code",
      "execution_count": null,
      "metadata": {
        "id": "fzaKhtheEgeJ"
      },
      "outputs": [],
      "source": [
        "!pip install jovian --upgrade -q"
      ]
    },
    {
      "cell_type": "code",
      "execution_count": null,
      "metadata": {
        "id": "T06CICRfEgeJ"
      },
      "outputs": [],
      "source": [
        "import jovian"
      ]
    },
    {
      "cell_type": "code",
      "execution_count": null,
      "metadata": {
        "id": "BOtvLz3cEgeJ",
        "outputId": "e6d299d8-9729-46a1-af56-dcb1f5f2ed73"
      },
      "outputs": [
        {
          "data": {
            "application/javascript": [
              "window.require && require([\"base/js/namespace\"],function(Jupyter){Jupyter.notebook.save_checkpoint()})"
            ],
            "text/plain": [
              "<IPython.core.display.Javascript object>"
            ]
          },
          "metadata": {},
          "output_type": "display_data"
        },
        {
          "name": "stdout",
          "output_type": "stream",
          "text": [
            "[jovian] Attempting to save notebook..\u001b[0m\n",
            "[jovian] Updating notebook \"aakashns/02-insurance-linear-regression\" on https://jovian.ai/\u001b[0m\n",
            "[jovian] Uploading notebook..\u001b[0m\n",
            "[jovian] Capturing environment..\u001b[0m\n",
            "[jovian] Committed successfully! https://jovian.ai/aakashns/02-insurance-linear-regression\u001b[0m\n"
          ]
        },
        {
          "data": {
            "text/plain": [
              "'https://jovian.ai/aakashns/02-insurance-linear-regression'"
            ]
          },
          "execution_count": 10,
          "metadata": {},
          "output_type": "execute_result"
        }
      ],
      "source": [
        "jovian.commit()"
      ]
    },
    {
      "cell_type": "markdown",
      "metadata": {
        "id": "9GQqo1E8EgeK"
      },
      "source": [
        "## Step 2: Prepare the dataset for training\n",
        "\n",
        "We need to convert the data from the Pandas dataframe into a PyTorch tensors for training. To do this, the first step is to convert it numpy arrays. If you've filled out `input_cols`, `categorial_cols` and `output_cols` correctly, this following function will perform the conversion to numpy arrays."
      ]
    },
    {
      "cell_type": "code",
      "execution_count": null,
      "metadata": {
        "id": "qLAfj6DXEgeK"
      },
      "outputs": [],
      "source": [
        "def dataframe_to_arrays(dataframe):\n",
        "    # Make a copy of the original dataframe\n",
        "    dataframe1 = dataframe.copy(deep=True)\n",
        "    # Convert non-numeric categorical columns to numbers\n",
        "    for col in categorical_cols:\n",
        "        dataframe1[col] = dataframe1[col].astype('category').cat.codes\n",
        "    # Extract input & outupts as numpy arrays\n",
        "    inputs_array = dataframe1[input_cols].to_numpy()\n",
        "    targets_array = dataframe1[output_cols].to_numpy()\n",
        "    return inputs_array, targets_array"
      ]
    },
    {
      "cell_type": "markdown",
      "metadata": {
        "id": "Ubl1MhkDEgeK"
      },
      "source": [
        "Read through the [Pandas documentation](https://pandas.pydata.org/pandas-docs/stable/user_guide/categorical.html) to understand how we're converting categorical variables into numbers."
      ]
    },
    {
      "cell_type": "code",
      "execution_count": null,
      "metadata": {
        "id": "_s4VJGhAEgeK",
        "outputId": "6ea99e52-05d6-4760-d50f-1e8ac851ea60",
        "colab": {
          "base_uri": "https://localhost:8080/"
        }
      },
      "outputs": [
        {
          "output_type": "execute_result",
          "data": {
            "text/plain": [
              "(array([[2.30000000e+01, 0.00000000e+00, 4.07920500e+01, 0.00000000e+00,\n",
              "         0.00000000e+00, 3.04446382e+03],\n",
              "        [2.00000000e+01, 1.00000000e+00, 2.57400000e+01, 1.00000000e+00,\n",
              "         0.00000000e+00, 2.06301900e+03],\n",
              "        [2.80000000e+01, 0.00000000e+00, 3.37896000e+01, 1.00000000e+00,\n",
              "         0.00000000e+00, 4.55462196e+03],\n",
              "        ...,\n",
              "        [5.30000000e+01, 0.00000000e+00, 3.12390000e+01, 2.00000000e+00,\n",
              "         0.00000000e+00, 1.17083190e+04],\n",
              "        [2.60000000e+01, 1.00000000e+00, 3.16602000e+01, 0.00000000e+00,\n",
              "         1.00000000e+00, 1.78955085e+04],\n",
              "        [1.90000000e+01, 0.00000000e+00, 3.31227000e+01, 0.00000000e+00,\n",
              "         1.00000000e+00, 1.83424331e+04]]),\n",
              " array([[ 3044.4638175],\n",
              "        [ 2063.019    ],\n",
              "        [ 4554.62196  ],\n",
              "        ...,\n",
              "        [11708.319    ],\n",
              "        [17895.50847  ],\n",
              "        [18342.433095 ]]))"
            ]
          },
          "metadata": {},
          "execution_count": 140
        }
      ],
      "source": [
        "inputs_array, targets_array = dataframe_to_arrays(dataframe)\n",
        "inputs_array, targets_array"
      ]
    },
    {
      "cell_type": "markdown",
      "metadata": {
        "id": "_G31Fm91EgeL"
      },
      "source": [
        "**Q6: Convert the numpy arrays `inputs_array` and `targets_array` into PyTorch tensors. Make sure that the data type is `torch.float32`.**"
      ]
    },
    {
      "cell_type": "code",
      "execution_count": null,
      "metadata": {
        "id": "ikazBjYjEgeL"
      },
      "outputs": [],
      "source": [
        "inputs = torch.tensor(inputs_array, dtype = torch.float32)\n",
        "targets = torch.tensor(targets_array, dtype = torch.float32)"
      ]
    },
    {
      "cell_type": "code",
      "execution_count": null,
      "metadata": {
        "id": "j1dKgtAWEgeL",
        "outputId": "91c98308-03ca-464a-dc71-7e1ca6acc00c",
        "colab": {
          "base_uri": "https://localhost:8080/"
        }
      },
      "outputs": [
        {
          "output_type": "execute_result",
          "data": {
            "text/plain": [
              "(torch.float32, torch.float32)"
            ]
          },
          "metadata": {},
          "execution_count": 142
        }
      ],
      "source": [
        "  inputs.dtype, targets.dtype"
      ]
    },
    {
      "cell_type": "markdown",
      "metadata": {
        "id": "EM9WMWZPEgeL"
      },
      "source": [
        "Next, we need to create PyTorch datasets & data loaders for training & validation. We'll start by creating a `TensorDataset`."
      ]
    },
    {
      "cell_type": "code",
      "execution_count": null,
      "metadata": {
        "id": "zRHvgnLNEgeL"
      },
      "outputs": [],
      "source": [
        "dataset = TensorDataset(inputs, targets)"
      ]
    },
    {
      "cell_type": "markdown",
      "metadata": {
        "id": "jjjYxo55EgeL"
      },
      "source": [
        "**Q7: Pick a number between `0.1` and `0.2` to determine the fraction of data that will be used for creating the validation set. Then use `random_split` to create training & validation datasets.**"
      ]
    },
    {
      "cell_type": "code",
      "execution_count": null,
      "metadata": {
        "id": "tkOhdRmzEgeL"
      },
      "outputs": [],
      "source": [
        "val_percent = 0.15 # between 0.1 and 0.2\n",
        "val_size = int(num_rows * val_percent)\n",
        "train_size = num_rows - val_size\n",
        "from torch.utils.data import random_split\n",
        "\n",
        "train_ds, val_ds = random_split(dataset, [val_size, train_size]) # Use the random_split function to split dataset into 2 parts of the desired length"
      ]
    },
    {
      "cell_type": "markdown",
      "metadata": {
        "id": "TBYLZWzXEgeM"
      },
      "source": [
        "Finally, we can create data loaders for training & validation.\n",
        "\n",
        "**Q8: Pick a batch size for the data loader.**"
      ]
    },
    {
      "cell_type": "code",
      "execution_count": null,
      "metadata": {
        "id": "A4q2-5a_EgeM"
      },
      "outputs": [],
      "source": [
        "batch_size = 100"
      ]
    },
    {
      "cell_type": "code",
      "execution_count": null,
      "metadata": {
        "id": "4Js0YpLrEgeM"
      },
      "outputs": [],
      "source": [
        "train_loader = DataLoader(train_ds, batch_size, shuffle=True)\n",
        "val_loader = DataLoader(val_ds, batch_size)"
      ]
    },
    {
      "cell_type": "markdown",
      "metadata": {
        "id": "XV5JHT5EEgeM"
      },
      "source": [
        "Let's look at a batch of data to verify everything is working fine so far."
      ]
    },
    {
      "cell_type": "code",
      "execution_count": null,
      "metadata": {
        "id": "EaK6ff_7EgeM",
        "outputId": "e4f26396-dbaa-4028-9503-7c0b4e8f37a3",
        "colab": {
          "base_uri": "https://localhost:8080/"
        }
      },
      "outputs": [
        {
          "output_type": "stream",
          "name": "stdout",
          "text": [
            "inputs: tensor([[4.3000e+01, 1.0000e+00, 2.3552e+01, 2.0000e+00, 1.0000e+00, 1.9706e+04],\n",
            "        [5.7000e+01, 1.0000e+00, 4.7233e+01, 0.0000e+00, 0.0000e+00, 1.1532e+04],\n",
            "        [4.5000e+01, 0.0000e+00, 4.1301e+01, 0.0000e+00, 0.0000e+00, 7.7155e+03],\n",
            "        [1.9000e+01, 1.0000e+00, 2.8782e+01, 1.0000e+00, 0.0000e+00, 1.9291e+03],\n",
            "        [4.0000e+01, 0.0000e+00, 2.9788e+01, 1.0000e+00, 0.0000e+00, 7.4310e+03],\n",
            "        [4.4000e+01, 1.0000e+00, 4.6238e+01, 0.0000e+00, 0.0000e+00, 7.2961e+03],\n",
            "        [1.8000e+01, 0.0000e+00, 3.6680e+01, 0.0000e+00, 0.0000e+00, 1.7033e+03],\n",
            "        [4.7000e+01, 0.0000e+00, 2.8197e+01, 1.0000e+00, 0.0000e+00, 2.7548e+04],\n",
            "        [4.7000e+01, 1.0000e+00, 3.3012e+01, 3.0000e+00, 1.0000e+00, 2.6161e+04],\n",
            "        [2.9000e+01, 0.0000e+00, 3.2690e+01, 1.0000e+00, 1.0000e+00, 2.0063e+04],\n",
            "        [5.1000e+01, 0.0000e+00, 3.0186e+01, 1.0000e+00, 0.0000e+00, 1.0354e+04],\n",
            "        [2.4000e+01, 0.0000e+00, 2.4008e+01, 0.0000e+00, 1.0000e+00, 1.5300e+04],\n",
            "        [1.9000e+01, 0.0000e+00, 3.5123e+01, 0.0000e+00, 1.0000e+00, 3.4973e+04],\n",
            "        [2.5000e+01, 1.0000e+00, 3.9382e+01, 4.0000e+00, 0.0000e+00, 4.7299e+03],\n",
            "        [3.8000e+01, 0.0000e+00, 3.3848e+01, 1.0000e+00, 0.0000e+00, 6.2731e+03],\n",
            "        [3.9000e+01, 0.0000e+00, 2.6676e+01, 3.0000e+00, 0.0000e+00, 8.3851e+03],\n",
            "        [4.6000e+01, 1.0000e+00, 3.2292e+01, 0.0000e+00, 0.0000e+00, 2.5833e+04],\n",
            "        [4.0000e+01, 1.0000e+00, 3.6124e+01, 4.0000e+00, 0.0000e+00, 8.5709e+03],\n",
            "        [2.1000e+01, 1.0000e+00, 4.1570e+01, 0.0000e+00, 0.0000e+00, 1.6091e+03],\n",
            "        [5.0000e+01, 1.0000e+00, 3.6235e+01, 3.0000e+00, 0.0000e+00, 1.1131e+04],\n",
            "        [5.3000e+01, 0.0000e+00, 4.6332e+01, 1.0000e+00, 0.0000e+00, 1.1109e+04],\n",
            "        [4.1000e+01, 1.0000e+00, 3.6013e+01, 3.0000e+00, 1.0000e+00, 4.1577e+04],\n",
            "        [1.9000e+01, 0.0000e+00, 2.4102e+01, 0.0000e+00, 0.0000e+00, 1.8183e+03],\n",
            "        [2.7000e+01, 0.0000e+00, 2.3453e+01, 3.0000e+00, 1.0000e+00, 1.7242e+04],\n",
            "        [5.2000e+01, 0.0000e+00, 2.9601e+01, 2.0000e+00, 1.0000e+00, 2.5901e+04],\n",
            "        [3.0000e+01, 1.0000e+00, 3.2345e+01, 1.0000e+00, 0.0000e+00, 4.4490e+03],\n",
            "        [5.5000e+01, 1.0000e+00, 3.2345e+01, 0.0000e+00, 0.0000e+00, 1.1124e+04],\n",
            "        [2.5000e+01, 1.0000e+00, 3.1233e+01, 4.0000e+00, 0.0000e+00, 5.1219e+03],\n",
            "        [5.5000e+01, 1.0000e+00, 2.5155e+01, 1.0000e+00, 0.0000e+00, 1.1332e+04],\n",
            "        [4.7000e+01, 0.0000e+00, 3.9681e+01, 3.0000e+00, 0.0000e+00, 1.0621e+04],\n",
            "        [2.8000e+01, 1.0000e+00, 3.1567e+01, 2.0000e+00, 0.0000e+00, 4.6568e+03],\n",
            "        [1.8000e+01, 0.0000e+00, 3.4123e+01, 0.0000e+00, 0.0000e+00, 7.6899e+03],\n",
            "        [5.6000e+01, 0.0000e+00, 3.3456e+01, 0.0000e+00, 0.0000e+00, 1.2241e+04],\n",
            "        [2.4000e+01, 1.0000e+00, 3.6346e+01, 0.0000e+00, 1.0000e+00, 3.5967e+04],\n",
            "        [2.8000e+01, 1.0000e+00, 3.4234e+01, 2.0000e+00, 0.0000e+00, 4.6602e+03],\n",
            "        [2.9000e+01, 0.0000e+00, 3.6457e+01, 0.0000e+00, 0.0000e+00, 4.1408e+03],\n",
            "        [5.4000e+01, 0.0000e+00, 3.2345e+01, 1.0000e+00, 0.0000e+00, 1.1871e+04],\n",
            "        [3.2000e+01, 0.0000e+00, 3.4620e+01, 1.0000e+00, 0.0000e+00, 4.7910e+03],\n",
            "        [2.2000e+01, 1.0000e+00, 2.3341e+01, 3.0000e+00, 0.0000e+00, 4.2057e+03],\n",
            "        [3.4000e+01, 0.0000e+00, 3.5346e+01, 1.0000e+00, 1.0000e+00, 4.6141e+04],\n",
            "        [3.4000e+01, 1.0000e+00, 4.9292e+01, 2.0000e+00, 0.0000e+00, 5.3804e+03],\n",
            "        [5.4000e+01, 1.0000e+00, 4.6332e+01, 1.0000e+00, 0.0000e+00, 1.0973e+04],\n",
            "        [5.3000e+01, 1.0000e+00, 4.2237e+01, 1.0000e+00, 0.0000e+00, 1.0590e+04],\n",
            "        [1.8000e+01, 0.0000e+00, 3.5457e+01, 0.0000e+00, 0.0000e+00, 2.3139e+03],\n",
            "        [5.0000e+01, 1.0000e+00, 3.7791e+01, 2.0000e+00, 0.0000e+00, 1.0112e+04],\n",
            "        [5.1000e+01, 1.0000e+00, 5.0193e+01, 2.0000e+00, 1.0000e+00, 4.9836e+04],\n",
            "        [3.4000e+01, 1.0000e+00, 4.1904e+01, 0.0000e+00, 0.0000e+00, 4.5364e+03],\n",
            "        [5.4000e+01, 0.0000e+00, 2.5120e+01, 3.0000e+00, 0.0000e+00, 1.3099e+04],\n",
            "        [3.8000e+01, 0.0000e+00, 3.2567e+01, 2.0000e+00, 0.0000e+00, 7.5021e+03],\n",
            "        [5.3000e+01, 1.0000e+00, 2.5038e+01, 1.0000e+00, 0.0000e+00, 1.0569e+04],\n",
            "        [6.4000e+01, 1.0000e+00, 4.4682e+01, 0.0000e+00, 0.0000e+00, 1.5131e+04],\n",
            "        [3.7000e+01, 0.0000e+00, 4.0716e+01, 2.0000e+00, 1.0000e+00, 4.1828e+04],\n",
            "        [1.9000e+01, 0.0000e+00, 2.8899e+01, 0.0000e+00, 0.0000e+00, 1.8242e+03],\n",
            "        [5.5000e+01, 0.0000e+00, 3.1567e+01, 0.0000e+00, 0.0000e+00, 1.1637e+04],\n",
            "        [4.6000e+01, 1.0000e+00, 3.5679e+01, 3.0000e+00, 1.0000e+00, 4.2757e+04],\n",
            "        [1.8000e+01, 1.0000e+00, 4.4659e+01, 0.0000e+00, 1.0000e+00, 3.8123e+04],\n",
            "        [5.2000e+01, 0.0000e+00, 2.1452e+01, 0.0000e+00, 0.0000e+00, 1.0491e+04],\n",
            "        [6.0000e+01, 0.0000e+00, 4.4530e+01, 0.0000e+00, 0.0000e+00, 1.3281e+04],\n",
            "        [5.4000e+01, 0.0000e+00, 3.6551e+01, 0.0000e+00, 0.0000e+00, 1.0856e+04],\n",
            "        [2.3000e+01, 0.0000e+00, 3.3123e+01, 0.0000e+00, 1.0000e+00, 1.8936e+04],\n",
            "        [1.9000e+01, 1.0000e+00, 2.4120e+01, 2.0000e+00, 0.0000e+00, 2.9439e+03],\n",
            "        [2.2000e+01, 0.0000e+00, 4.2120e+01, 0.0000e+00, 0.0000e+00, 2.2751e+03],\n",
            "        [3.0000e+01, 0.0000e+00, 2.6787e+01, 1.0000e+00, 0.0000e+00, 4.9555e+03],\n",
            "        [2.9000e+01, 0.0000e+00, 3.4620e+01, 1.0000e+00, 0.0000e+00, 4.1448e+03],\n",
            "        [5.1000e+01, 0.0000e+00, 4.6215e+01, 1.0000e+00, 0.0000e+00, 1.0374e+04],\n",
            "        [4.9000e+01, 0.0000e+00, 4.0681e+01, 1.0000e+00, 0.0000e+00, 1.0063e+04],\n",
            "        [4.1000e+01, 1.0000e+00, 4.7104e+01, 0.0000e+00, 0.0000e+00, 5.9946e+03],\n",
            "        [1.9000e+01, 0.0000e+00, 3.8013e+01, 0.0000e+00, 1.0000e+00, 3.8744e+04],\n",
            "        [4.8000e+01, 1.0000e+00, 3.4749e+01, 0.0000e+00, 0.0000e+00, 8.1791e+03],\n",
            "        [3.4000e+01, 0.0000e+00, 3.8903e+01, 1.0000e+00, 0.0000e+00, 5.8746e+03],\n",
            "        [3.6000e+01, 0.0000e+00, 3.5006e+01, 0.0000e+00, 0.0000e+00, 5.1335e+03],\n",
            "        [1.8000e+01, 1.0000e+00, 6.2162e+01, 0.0000e+00, 0.0000e+00, 1.2216e+03],\n",
            "        [1.9000e+01, 1.0000e+00, 2.3166e+01, 0.0000e+00, 0.0000e+00, 1.3036e+03],\n",
            "        [5.6000e+01, 1.0000e+00, 4.7151e+01, 0.0000e+00, 0.0000e+00, 1.1133e+04],\n",
            "        [4.1000e+01, 1.0000e+00, 4.1827e+01, 1.0000e+00, 1.0000e+00, 4.2287e+04],\n",
            "        [6.3000e+01, 1.0000e+00, 3.8727e+01, 0.0000e+00, 0.0000e+00, 1.4063e+04],\n",
            "        [2.8000e+01, 1.0000e+00, 3.8610e+01, 3.0000e+00, 0.0000e+00, 4.6719e+03],\n",
            "        [5.7000e+01, 1.0000e+00, 4.7128e+01, 0.0000e+00, 0.0000e+00, 2.1744e+04],\n",
            "        [2.1000e+01, 0.0000e+00, 2.5565e+01, 1.0000e+00, 1.0000e+00, 1.6127e+04],\n",
            "        [1.9000e+01, 0.0000e+00, 2.8788e+01, 1.0000e+00, 0.0000e+00, 2.8447e+03],\n",
            "        [1.9000e+01, 0.0000e+00, 3.3790e+01, 0.0000e+00, 1.0000e+00, 1.8636e+04],\n",
            "        [1.9000e+01, 0.0000e+00, 3.3462e+01, 5.0000e+00, 0.0000e+00, 4.9222e+03],\n",
            "        [3.9000e+01, 0.0000e+00, 3.9897e+01, 3.0000e+00, 0.0000e+00, 7.7894e+03],\n",
            "        [3.7000e+01, 1.0000e+00, 2.8454e+01, 2.0000e+00, 0.0000e+00, 6.5087e+03],\n",
            "        [4.1000e+01, 0.0000e+00, 3.8569e+01, 0.0000e+00, 0.0000e+00, 6.8996e+03],\n",
            "        [4.3000e+01, 1.0000e+00, 3.8142e+01, 2.0000e+00, 0.0000e+00, 7.8136e+03],\n",
            "        [5.6000e+01, 0.0000e+00, 3.0010e+01, 0.0000e+00, 0.0000e+00, 1.2027e+04],\n",
            "        [5.8000e+01, 1.0000e+00, 3.3456e+01, 0.0000e+00, 0.0000e+00, 1.2323e+04],\n",
            "        [5.6000e+01, 0.0000e+00, 3.1122e+01, 1.0000e+00, 0.0000e+00, 1.2647e+04],\n",
            "        [2.5000e+01, 1.0000e+00, 5.3282e+01, 2.0000e+00, 1.0000e+00, 4.4218e+04],\n",
            "        [2.2000e+01, 0.0000e+00, 3.3719e+01, 0.0000e+00, 0.0000e+00, 2.2646e+03],\n",
            "        [4.9000e+01, 0.0000e+00, 3.5012e+01, 0.0000e+00, 0.0000e+00, 9.4376e+03],\n",
            "        [2.0000e+01, 0.0000e+00, 2.5506e+01, 0.0000e+00, 1.0000e+00, 2.1176e+04],\n",
            "        [1.8000e+01, 0.0000e+00, 3.3012e+01, 0.0000e+00, 0.0000e+00, 2.3109e+03],\n",
            "        [5.8000e+01, 0.0000e+00, 3.8727e+01, 0.0000e+00, 0.0000e+00, 1.2441e+04],\n",
            "        [1.8000e+01, 0.0000e+00, 2.8185e+01, 1.0000e+00, 0.0000e+00, 2.3112e+03],\n",
            "        [2.8000e+01, 0.0000e+00, 3.1017e+01, 2.0000e+00, 0.0000e+00, 4.5575e+03],\n",
            "        [5.0000e+01, 1.0000e+00, 3.7235e+01, 0.0000e+00, 1.0000e+00, 4.3152e+04],\n",
            "        [2.3000e+01, 1.0000e+00, 2.0340e+01, 1.0000e+00, 0.0000e+00, 2.9140e+03],\n",
            "        [4.5000e+01, 1.0000e+00, 2.6787e+01, 0.0000e+00, 1.0000e+00, 3.6823e+04]])\n",
            "targets: tensor([[19706.1250],\n",
            "        [11531.6260],\n",
            "        [ 7715.5493],\n",
            "        [ 1929.0989],\n",
            "        [ 7431.0488],\n",
            "        [ 7296.1357],\n",
            "        [ 1703.2980],\n",
            "        [27548.4082],\n",
            "        [26160.9824],\n",
            "        [20063.1680],\n",
            "        [10354.0762],\n",
            "        [15300.4854],\n",
            "        [34972.9297],\n",
            "        [ 4729.8955],\n",
            "        [ 6273.1040],\n",
            "        [ 8385.1055],\n",
            "        [25833.2012],\n",
            "        [ 8570.8525],\n",
            "        [ 1609.0931],\n",
            "        [11130.5762],\n",
            "        [11108.6963],\n",
            "        [41577.2773],\n",
            "        [ 1818.2609],\n",
            "        [17241.5195],\n",
            "        [25900.7891],\n",
            "        [ 4448.9829],\n",
            "        [11124.2266],\n",
            "        [ 5121.8799],\n",
            "        [11331.5576],\n",
            "        [10620.7598],\n",
            "        [ 4656.8491],\n",
            "        [ 7689.9214],\n",
            "        [12241.0205],\n",
            "        [35966.7578],\n",
            "        [ 4660.1768],\n",
            "        [ 4140.7754],\n",
            "        [11871.2314],\n",
            "        [ 4790.9844],\n",
            "        [ 4205.6938],\n",
            "        [46141.0703],\n",
            "        [ 5380.3979],\n",
            "        [10973.0801],\n",
            "        [10590.1387],\n",
            "        [ 2313.9229],\n",
            "        [10111.9170],\n",
            "        [49836.0391],\n",
            "        [ 4536.4312],\n",
            "        [13099.1191],\n",
            "        [ 7502.1060],\n",
            "        [10568.6836],\n",
            "        [15131.4785],\n",
            "        [41828.3438],\n",
            "        [ 1824.2448],\n",
            "        [11636.7061],\n",
            "        [42756.5781],\n",
            "        [38123.1875],\n",
            "        [10490.5898],\n",
            "        [13281.1387],\n",
            "        [10855.8779],\n",
            "        [18935.6660],\n",
            "        [ 2943.8828],\n",
            "        [ 2275.0686],\n",
            "        [ 4955.5005],\n",
            "        [ 4144.7837],\n",
            "        [10374.0713],\n",
            "        [10063.0879],\n",
            "        [ 5994.6226],\n",
            "        [38743.6680],\n",
            "        [ 8179.1167],\n",
            "        [ 5874.5879],\n",
            "        [ 5133.4888],\n",
            "        [ 1221.6359],\n",
            "        [ 1303.6433],\n",
            "        [11132.5039],\n",
            "        [42287.3281],\n",
            "        [14063.4434],\n",
            "        [ 4671.9351],\n",
            "        [21744.4707],\n",
            "        [16127.0596],\n",
            "        [ 2844.7061],\n",
            "        [18635.9316],\n",
            "        [ 4922.1870],\n",
            "        [ 7789.4482],\n",
            "        [ 6508.6895],\n",
            "        [ 6899.5757],\n",
            "        [ 7813.5762],\n",
            "        [12026.7227],\n",
            "        [12322.6729],\n",
            "        [12646.5596],\n",
            "        [44217.8477],\n",
            "        [ 2264.5894],\n",
            "        [ 9437.5664],\n",
            "        [21175.7031],\n",
            "        [ 2310.8723],\n",
            "        [12440.5479],\n",
            "        [ 2311.1519],\n",
            "        [ 4557.4629],\n",
            "        [43152.0195],\n",
            "        [ 2913.9517],\n",
            "        [36822.8438]])\n"
          ]
        }
      ],
      "source": [
        "for xb, yb in train_loader:\n",
        "    print(\"inputs:\", xb)\n",
        "    print(\"targets:\", yb)\n",
        "    break"
      ]
    },
    {
      "cell_type": "markdown",
      "metadata": {
        "id": "AOqR0YUkEgeM"
      },
      "source": [
        "Let's save our work by committing to Jovian."
      ]
    },
    {
      "cell_type": "code",
      "execution_count": null,
      "metadata": {
        "id": "elkcrNNiEgeM"
      },
      "outputs": [],
      "source": [
        "jovian.commit(project=project_name, environment=None)"
      ]
    },
    {
      "cell_type": "markdown",
      "metadata": {
        "id": "CEHu9VmKEgeN"
      },
      "source": [
        "## Step 3: Create a Linear Regression Model\n",
        "\n",
        "Our model itself is a fairly straightforward linear regression (we'll build more complex models in the next assignment). \n"
      ]
    },
    {
      "cell_type": "code",
      "execution_count": null,
      "metadata": {
        "id": "1sFmzU9WEgeN"
      },
      "outputs": [],
      "source": [
        "input_size = len(input_cols)\n",
        "output_size = len(output_cols)"
      ]
    },
    {
      "cell_type": "markdown",
      "metadata": {
        "id": "vE4GlBjdEgeN"
      },
      "source": [
        "**Q9: Complete the class definition below by filling out the constructor (`__init__`), `forward`, `training_step` and `validation_step` methods.**\n",
        "\n",
        "Hint: Think carefully about picking a good loss fuction (it's not cross entropy). Maybe try 2-3 of them and see which one works best. See https://pytorch.org/docs/stable/nn.functional.html#loss-functions"
      ]
    },
    {
      "cell_type": "code",
      "execution_count": null,
      "metadata": {
        "id": "xHtcLuImEgeN"
      },
      "outputs": [],
      "source": [
        "import torch.nn.functional as F\n",
        "class InsuranceModel(nn.Module):\n",
        "    def __init__(self):\n",
        "        super().__init__()\n",
        "        self.linear = nn.Linear(input_size, output_size)                 # fill this (hint: use input_size & output_size defined above)\n",
        "        \n",
        "    def forward(self, xb):\n",
        "        out = self.linear(xb)                        # fill this\n",
        "        return out\n",
        "    \n",
        "    def training_step(self, batch):\n",
        "        inputs, targets = batch \n",
        "        # Generate predictions\n",
        "        out = self(inputs)          \n",
        "        # Calcuate loss\n",
        "        loss = F.smooth_l1_loss(out, targets)                         # fill this\n",
        "        return loss\n",
        "    \n",
        "    def validation_step(self, batch):\n",
        "        inputs, targets = batch\n",
        "        # Generate predictions\n",
        "        out = self(inputs)\n",
        "        # Calculate loss\n",
        "        loss = F.smooth_l1_loss(out, targets)    \n",
        "        # acc = accuracy(out, targets)                  # fill this    \n",
        "        return {'val_loss': loss.detach()}\n",
        "        \n",
        "    def validation_epoch_end(self, outputs):\n",
        "        batch_losses = [x['val_loss'] for x in outputs]\n",
        "        epoch_loss = torch.stack(batch_losses).mean()   # Combine losses\n",
        "        return {'val_loss': epoch_loss.item()}\n",
        "    \n",
        "    def epoch_end(self, epoch, result, num_epochs):\n",
        "        # Print result every 20th epoch\n",
        "        if (epoch+1) % 20 == 0 or epoch == num_epochs-1:\n",
        "            print(\"Epoch [{}], val_loss: {:.4f}\".format(epoch+1, result['val_loss']))"
      ]
    },
    {
      "cell_type": "markdown",
      "metadata": {
        "id": "SiJUtitKEgeN"
      },
      "source": [
        "Let us create a model using the `InsuranceModel` class. You may need to come back later and re-run the next cell to reinitialize the model, in case the loss becomes `nan` or `infinity`."
      ]
    },
    {
      "cell_type": "code",
      "execution_count": null,
      "metadata": {
        "id": "cyJU9pOaEgeO"
      },
      "outputs": [],
      "source": [
        "model = InsuranceModel()"
      ]
    },
    {
      "cell_type": "markdown",
      "metadata": {
        "id": "UruBeLOLEgeO"
      },
      "source": [
        "Let's check out the weights and biases of the model using `model.parameters`."
      ]
    },
    {
      "cell_type": "code",
      "execution_count": null,
      "metadata": {
        "id": "JUf3W4pnEgeO",
        "outputId": "0fc4672e-c9d6-41c9-fb1e-4b4cde5129f8",
        "colab": {
          "base_uri": "https://localhost:8080/"
        }
      },
      "outputs": [
        {
          "output_type": "execute_result",
          "data": {
            "text/plain": [
              "[Parameter containing:\n",
              " tensor([[-0.2169,  0.2466,  0.3187,  0.1971, -0.0769,  0.3118]],\n",
              "        requires_grad=True),\n",
              " Parameter containing:\n",
              " tensor([0.1359], requires_grad=True)]"
            ]
          },
          "metadata": {},
          "execution_count": 151
        }
      ],
      "source": [
        "list(model.parameters())"
      ]
    },
    {
      "cell_type": "markdown",
      "metadata": {
        "id": "4gCcxfZiEgeO"
      },
      "source": [
        "One final commit before we train the model."
      ]
    },
    {
      "cell_type": "code",
      "execution_count": null,
      "metadata": {
        "id": "eAOgMkKrEgeO"
      },
      "outputs": [],
      "source": [
        "jovian.commit(project=project_name, environment=None)"
      ]
    },
    {
      "cell_type": "markdown",
      "metadata": {
        "id": "wG5TSmAsEgeO"
      },
      "source": [
        "## Step 4: Train the model to fit the data\n",
        "\n",
        "To train our model, we'll use the same `fit` function explained in the lecture. That's the benefit of defining a generic training loop - you can use it for any problem."
      ]
    },
    {
      "cell_type": "code",
      "execution_count": null,
      "metadata": {
        "id": "r7mhXh3SEgeO"
      },
      "outputs": [],
      "source": [
        "def evaluate(model, val_loader):\n",
        "    outputs = [model.validation_step(batch) for batch in val_loader]\n",
        "    return model.validation_epoch_end(outputs)\n",
        "\n",
        "def fit(epochs, lr, model, train_loader, val_loader, opt_func=torch.optim.SGD):\n",
        "    history = []\n",
        "    optimizer = opt_func(model.parameters(), lr)\n",
        "    for epoch in range(epochs):\n",
        "        # Training Phase \n",
        "        for batch in train_loader:\n",
        "            loss = model.training_step(batch)\n",
        "            loss.backward()\n",
        "            optimizer.step()\n",
        "            optimizer.zero_grad()\n",
        "        # Validation phase\n",
        "        result = evaluate(model, val_loader)\n",
        "        model.epoch_end(epoch, result, epochs)\n",
        "        history.append(result)\n",
        "    return history"
      ]
    },
    {
      "cell_type": "markdown",
      "metadata": {
        "id": "2sqL1IxwEgeP"
      },
      "source": [
        "**Q10: Use the `evaluate` function to calculate the loss on the validation set before training.**"
      ]
    },
    {
      "cell_type": "code",
      "execution_count": null,
      "metadata": {
        "id": "ETtpCU2wEgeP",
        "outputId": "a7989420-232b-4436-ff36-9bb7e28c7fbb",
        "colab": {
          "base_uri": "https://localhost:8080/"
        }
      },
      "outputs": [
        {
          "output_type": "stream",
          "name": "stdout",
          "text": [
            "{'val_loss': 9651.23046875}\n"
          ]
        }
      ],
      "source": [
        "result = evaluate(model, val_loader) # Use the the evaluate function\n",
        "print(result)"
      ]
    },
    {
      "cell_type": "markdown",
      "metadata": {
        "id": "zfE2wQPIEgeP"
      },
      "source": [
        "\n",
        "We are now ready to train the model. You may need to run the training loop many times, for different number of epochs and with different learning rates, to get a good result. Also, if your loss becomes too large (or `nan`), you may have to re-initialize the model by running the cell `model = InsuranceModel()`. Experiment with this for a while, and try to get to as low a loss as possible."
      ]
    },
    {
      "cell_type": "markdown",
      "metadata": {
        "id": "WI9D898PEgeP"
      },
      "source": [
        "**Q11: Train the model 4-5 times with different learning rates & for different number of epochs.**\n",
        "\n",
        "Hint: Vary learning rates by orders of 10 (e.g. `1e-2`, `1e-3`, `1e-4`, `1e-5`, `1e-6`) to figure out what works."
      ]
    },
    {
      "cell_type": "code",
      "execution_count": null,
      "metadata": {
        "id": "29Hg_tuYEgeP",
        "outputId": "49a236b5-dcb9-4d8f-95c8-ebc5d940fb3f",
        "colab": {
          "base_uri": "https://localhost:8080/"
        }
      },
      "outputs": [
        {
          "output_type": "stream",
          "name": "stdout",
          "text": [
            "Epoch [20], val_loss: 20804844.0000\n",
            "Epoch [40], val_loss: 74342352.0000\n",
            "Epoch [50], val_loss: 6962509.0000\n"
          ]
        }
      ],
      "source": [
        "epochs = 50\n",
        "lr = 0.4\n",
        "history1 = fit(epochs, lr, model, train_loader, val_loader)"
      ]
    },
    {
      "cell_type": "code",
      "execution_count": null,
      "metadata": {
        "id": "-O15-5GUEgeP",
        "outputId": "343290b8-b545-4a96-da70-9a50688b9810",
        "colab": {
          "base_uri": "https://localhost:8080/"
        }
      },
      "outputs": [
        {
          "output_type": "stream",
          "name": "stdout",
          "text": [
            "Epoch [20], val_loss: 17201998.0000\n",
            "Epoch [40], val_loss: 46013968.0000\n",
            "Epoch [60], val_loss: 24014690.0000\n",
            "Epoch [80], val_loss: 6405621.0000\n",
            "Epoch [100], val_loss: 23948328.0000\n",
            "Epoch [120], val_loss: 79419184.0000\n",
            "Epoch [140], val_loss: 36364336.0000\n",
            "Epoch [160], val_loss: 46513628.0000\n",
            "Epoch [180], val_loss: 59716016.0000\n",
            "Epoch [200], val_loss: 52309492.0000\n",
            "Epoch [220], val_loss: 78562912.0000\n",
            "Epoch [240], val_loss: 30731142.0000\n",
            "Epoch [260], val_loss: 52056252.0000\n",
            "Epoch [280], val_loss: 49626968.0000\n",
            "Epoch [300], val_loss: 22994594.0000\n",
            "Epoch [320], val_loss: 33779484.0000\n",
            "Epoch [340], val_loss: 34157288.0000\n",
            "Epoch [360], val_loss: 14675252.0000\n",
            "Epoch [380], val_loss: 19512862.0000\n",
            "Epoch [400], val_loss: 76010272.0000\n",
            "Epoch [420], val_loss: 45676748.0000\n",
            "Epoch [440], val_loss: 29288398.0000\n",
            "Epoch [460], val_loss: 73992456.0000\n",
            "Epoch [480], val_loss: 73982176.0000\n",
            "Epoch [500], val_loss: 81185056.0000\n",
            "Epoch [520], val_loss: 75228008.0000\n",
            "Epoch [540], val_loss: 67770200.0000\n",
            "Epoch [560], val_loss: 44994896.0000\n",
            "Epoch [580], val_loss: 10313308.0000\n",
            "Epoch [600], val_loss: 45873248.0000\n",
            "Epoch [620], val_loss: 54474560.0000\n",
            "Epoch [640], val_loss: 21342594.0000\n",
            "Epoch [660], val_loss: 7589001.5000\n",
            "Epoch [680], val_loss: 31847992.0000\n",
            "Epoch [700], val_loss: 53981544.0000\n",
            "Epoch [720], val_loss: 41351296.0000\n",
            "Epoch [740], val_loss: 32155054.0000\n",
            "Epoch [760], val_loss: 25242598.0000\n",
            "Epoch [780], val_loss: 45164056.0000\n",
            "Epoch [800], val_loss: 77074296.0000\n",
            "Epoch [820], val_loss: 25124416.0000\n",
            "Epoch [840], val_loss: 37214780.0000\n",
            "Epoch [860], val_loss: 40009848.0000\n",
            "Epoch [880], val_loss: 77175728.0000\n",
            "Epoch [900], val_loss: 74606888.0000\n",
            "Epoch [920], val_loss: 39185916.0000\n",
            "Epoch [940], val_loss: 38773720.0000\n",
            "Epoch [960], val_loss: 75131704.0000\n",
            "Epoch [980], val_loss: 58788876.0000\n",
            "Epoch [1000], val_loss: 65260864.0000\n"
          ]
        }
      ],
      "source": [
        "epochs = 1000\n",
        "lr = 0.4\n",
        "history2 = fit(epochs, lr, model, train_loader, val_loader)"
      ]
    },
    {
      "cell_type": "code",
      "execution_count": null,
      "metadata": {
        "id": "KhQjqMoqEgeP",
        "outputId": "5475a9df-d2c1-4755-cddc-26a1eee52759",
        "colab": {
          "base_uri": "https://localhost:8080/"
        }
      },
      "outputs": [
        {
          "output_type": "stream",
          "name": "stdout",
          "text": [
            "Epoch [20], val_loss: 30918458.0000\n",
            "Epoch [40], val_loss: 40382956.0000\n",
            "Epoch [60], val_loss: 9076915.0000\n",
            "Epoch [80], val_loss: 32603406.0000\n",
            "Epoch [100], val_loss: 53786904.0000\n"
          ]
        }
      ],
      "source": [
        "epochs = 100\n",
        "lr = 0.3\n",
        "history3 = fit(epochs, lr, model, train_loader, val_loader)"
      ]
    },
    {
      "cell_type": "code",
      "execution_count": null,
      "metadata": {
        "id": "omzxSrscEgeP",
        "outputId": "07b98d94-9c86-48b1-8c8a-f9716715eb0e",
        "colab": {
          "base_uri": "https://localhost:8080/"
        }
      },
      "outputs": [
        {
          "output_type": "stream",
          "name": "stdout",
          "text": [
            "Epoch [20], val_loss: 12759652.0000\n",
            "Epoch [40], val_loss: 4997568.5000\n",
            "Epoch [60], val_loss: 7553351.5000\n",
            "Epoch [80], val_loss: 863248.7500\n",
            "Epoch [100], val_loss: 3180088.2500\n",
            "Epoch [120], val_loss: 9718713.0000\n",
            "Epoch [140], val_loss: 17178526.0000\n",
            "Epoch [160], val_loss: 18997780.0000\n",
            "Epoch [180], val_loss: 15283607.0000\n",
            "Epoch [200], val_loss: 4461331.5000\n",
            "Epoch [220], val_loss: 879852.2500\n",
            "Epoch [240], val_loss: 2586388.0000\n",
            "Epoch [260], val_loss: 8534391.0000\n",
            "Epoch [280], val_loss: 14160957.0000\n",
            "Epoch [300], val_loss: 11127086.0000\n",
            "Epoch [320], val_loss: 14640233.0000\n",
            "Epoch [340], val_loss: 8844682.0000\n",
            "Epoch [360], val_loss: 19433672.0000\n",
            "Epoch [380], val_loss: 19234940.0000\n",
            "Epoch [400], val_loss: 17583722.0000\n",
            "Epoch [420], val_loss: 13099555.0000\n",
            "Epoch [440], val_loss: 19699854.0000\n",
            "Epoch [460], val_loss: 15714909.0000\n",
            "Epoch [480], val_loss: 12323011.0000\n",
            "Epoch [500], val_loss: 2630360.0000\n"
          ]
        }
      ],
      "source": [
        "epochs = 500\n",
        "lr = 0.1\n",
        "history5 = fit(epochs, lr, model, train_loader, val_loader)"
      ]
    },
    {
      "cell_type": "code",
      "execution_count": null,
      "metadata": {
        "id": "A9WLKZ1tEgeQ",
        "outputId": "f6faf90f-e6ef-462f-d2a4-70da4a52a96b",
        "colab": {
          "base_uri": "https://localhost:8080/"
        }
      },
      "outputs": [
        {
          "output_type": "stream",
          "name": "stdout",
          "text": [
            "Epoch [20], val_loss: 4538938.0000\n",
            "Epoch [40], val_loss: 23669406.0000\n",
            "Epoch [60], val_loss: 2347005.7500\n",
            "Epoch [80], val_loss: 20921152.0000\n",
            "Epoch [100], val_loss: 24246338.0000\n",
            "Epoch [120], val_loss: 16808696.0000\n",
            "Epoch [140], val_loss: 16553868.0000\n",
            "Epoch [160], val_loss: 13388700.0000\n",
            "Epoch [180], val_loss: 4121723.7500\n",
            "Epoch [200], val_loss: 3286051.2500\n",
            "Epoch [220], val_loss: 37412732.0000\n",
            "Epoch [240], val_loss: 11146775.0000\n",
            "Epoch [260], val_loss: 30582626.0000\n",
            "Epoch [280], val_loss: 29977984.0000\n",
            "Epoch [300], val_loss: 7611324.5000\n",
            "Epoch [320], val_loss: 960980.7500\n",
            "Epoch [340], val_loss: 185442.2500\n",
            "Epoch [360], val_loss: 6581443.0000\n",
            "Epoch [380], val_loss: 36562960.0000\n",
            "Epoch [400], val_loss: 26251744.0000\n",
            "Epoch [420], val_loss: 22029982.0000\n",
            "Epoch [440], val_loss: 1158429.0000\n",
            "Epoch [460], val_loss: 40897080.0000\n",
            "Epoch [480], val_loss: 36731952.0000\n",
            "Epoch [500], val_loss: 23055670.0000\n",
            "Epoch [520], val_loss: 4723145.5000\n",
            "Epoch [540], val_loss: 24843848.0000\n",
            "Epoch [560], val_loss: 38105268.0000\n",
            "Epoch [580], val_loss: 41561992.0000\n",
            "Epoch [600], val_loss: 22117248.0000\n",
            "Epoch [620], val_loss: 11420337.0000\n",
            "Epoch [640], val_loss: 28114066.0000\n",
            "Epoch [660], val_loss: 8364899.5000\n",
            "Epoch [680], val_loss: 20631468.0000\n",
            "Epoch [700], val_loss: 1614603.8750\n",
            "Epoch [720], val_loss: 35981764.0000\n",
            "Epoch [740], val_loss: 3468425.5000\n",
            "Epoch [760], val_loss: 22912808.0000\n",
            "Epoch [780], val_loss: 26338174.0000\n",
            "Epoch [800], val_loss: 6333371.0000\n",
            "Epoch [820], val_loss: 35351752.0000\n",
            "Epoch [840], val_loss: 30031554.0000\n",
            "Epoch [860], val_loss: 41409624.0000\n",
            "Epoch [880], val_loss: 27213368.0000\n",
            "Epoch [900], val_loss: 39261380.0000\n",
            "Epoch [920], val_loss: 27039666.0000\n",
            "Epoch [940], val_loss: 7613062.0000\n",
            "Epoch [960], val_loss: 951048.9375\n",
            "Epoch [980], val_loss: 9702724.0000\n",
            "Epoch [1000], val_loss: 8032379.5000\n"
          ]
        }
      ],
      "source": [
        "epochs = 1000\n",
        "lr = 0.2\n",
        "history4 = fit(epochs, lr, model, train_loader, val_loader)"
      ]
    },
    {
      "cell_type": "markdown",
      "metadata": {
        "id": "w55HbyLeEgeQ"
      },
      "source": [
        "**Q12: What is the final validation loss of your model?**"
      ]
    },
    {
      "cell_type": "code",
      "execution_count": null,
      "metadata": {
        "id": "Zy7maeQFEgeQ"
      },
      "outputs": [],
      "source": [
        "val_loss = 8032379.5000"
      ]
    },
    {
      "cell_type": "markdown",
      "metadata": {
        "id": "ItZ17r9fEgeQ"
      },
      "source": [
        "Let's log the final validation loss to Jovian and commit the notebook"
      ]
    },
    {
      "cell_type": "code",
      "execution_count": null,
      "metadata": {
        "id": "LBMUQUK1EgeQ"
      },
      "outputs": [],
      "source": [
        "jovian.log_metrics(val_loss=val_loss)"
      ]
    },
    {
      "cell_type": "code",
      "execution_count": null,
      "metadata": {
        "id": "Y0vJrK5LEgeQ"
      },
      "outputs": [],
      "source": [
        "jovian.commit(project=project_name, environment=None)"
      ]
    },
    {
      "cell_type": "markdown",
      "metadata": {
        "id": "NILMOW37EgeQ"
      },
      "source": [
        "Now scroll back up, re-initialize the model, and try different set of values for batch size, number of epochs, learning rate etc. Commit each experiment and use the \"Compare\" and \"View Diff\" options on Jovian to compare the different results."
      ]
    },
    {
      "cell_type": "markdown",
      "metadata": {
        "id": "NfoODExOEgeQ"
      },
      "source": [
        "## Step 5: Make predictions using the trained model\n",
        "\n",
        "**Q13: Complete the following function definition to make predictions on a single input**"
      ]
    },
    {
      "cell_type": "code",
      "execution_count": null,
      "metadata": {
        "id": "4EMNdtShEgeR"
      },
      "outputs": [],
      "source": [
        "def predict_single(input, target, model):\n",
        "    inputs = input.unsqueeze(0)\n",
        "    predictions =  model(inputs)          # fill this\n",
        "    prediction = predictions[0].detach()\n",
        "    print(\"Input:\", input)\n",
        "    print(\"Target:\", target)\n",
        "    print(\"Prediction:\", prediction)"
      ]
    },
    {
      "cell_type": "code",
      "execution_count": null,
      "metadata": {
        "id": "uoYbMyaKEgeR",
        "outputId": "75e65f2a-44ea-4d07-dc2b-26040e985703",
        "colab": {
          "base_uri": "https://localhost:8080/"
        }
      },
      "outputs": [
        {
          "output_type": "stream",
          "name": "stdout",
          "text": [
            "Input: tensor([5.1000e+01, 0.0000e+00, 4.0014e+01, 1.0000e+00, 0.0000e+00, 1.0366e+04])\n",
            "Target: tensor([10366.3359])\n",
            "Prediction: tensor([5945379.])\n"
          ]
        }
      ],
      "source": [
        "input, target = val_ds[0]\n",
        "predict_single(input, target, model)"
      ]
    },
    {
      "cell_type": "code",
      "execution_count": null,
      "metadata": {
        "id": "nrpshwMJEgeR",
        "outputId": "5fd4f118-e048-4b4a-b127-41035fe11ade",
        "colab": {
          "base_uri": "https://localhost:8080/"
        }
      },
      "outputs": [
        {
          "output_type": "stream",
          "name": "stdout",
          "text": [
            "Input: tensor([5.1000e+01, 1.0000e+00, 2.7156e+01, 1.0000e+00, 1.0000e+00, 2.3329e+04])\n",
            "Target: tensor([23329.0215])\n",
            "Prediction: tensor([13379015.])\n"
          ]
        }
      ],
      "source": [
        "input, target = val_ds[10]\n",
        "predict_single(input, target, model)"
      ]
    },
    {
      "cell_type": "code",
      "execution_count": null,
      "metadata": {
        "id": "Uyw30oWGEgeR",
        "outputId": "e83947d6-4482-4a84-d8a4-c58f3d861a6e",
        "colab": {
          "base_uri": "https://localhost:8080/"
        }
      },
      "outputs": [
        {
          "output_type": "stream",
          "name": "stdout",
          "text": [
            "Input: tensor([6.2000e+01, 0.0000e+00, 3.0759e+01, 0.0000e+00, 1.0000e+00, 2.9199e+04])\n",
            "Target: tensor([29199.1621])\n",
            "Prediction: tensor([16745461.])\n"
          ]
        }
      ],
      "source": [
        "input, target = val_ds[23]\n",
        "predict_single(input, target, model)"
      ]
    },
    {
      "cell_type": "markdown",
      "metadata": {
        "id": "gFYSomxHEgeR"
      },
      "source": [
        "Are you happy with your model's predictions? Try to improve them further.\n",
        "\n",
        "\n",
        "NO :("
      ]
    }
  ],
  "metadata": {
    "kernelspec": {
      "display_name": "Python 3 (ipykernel)",
      "language": "python",
      "name": "python3"
    },
    "language_info": {
      "codemirror_mode": {
        "name": "ipython",
        "version": 3
      },
      "file_extension": ".py",
      "mimetype": "text/x-python",
      "name": "python",
      "nbconvert_exporter": "python",
      "pygments_lexer": "ipython3",
      "version": "3.9.6"
    },
    "colab": {
      "provenance": []
    }
  },
  "nbformat": 4,
  "nbformat_minor": 0
}